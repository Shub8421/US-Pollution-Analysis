{
 "cells": [
  {
   "cell_type": "code",
   "execution_count": 1,
   "id": "59f69748",
   "metadata": {},
   "outputs": [],
   "source": [
    "import pandas as pd \n",
    "import numpy as np \n",
    "import seaborn as sns \n",
    "import matplotlib.pyplot as plt "
   ]
  },
  {
   "cell_type": "code",
   "execution_count": 2,
   "id": "e0b50fa9",
   "metadata": {},
   "outputs": [
    {
     "data": {
      "text/html": [
       "<div>\n",
       "<style scoped>\n",
       "    .dataframe tbody tr th:only-of-type {\n",
       "        vertical-align: middle;\n",
       "    }\n",
       "\n",
       "    .dataframe tbody tr th {\n",
       "        vertical-align: top;\n",
       "    }\n",
       "\n",
       "    .dataframe thead th {\n",
       "        text-align: right;\n",
       "    }\n",
       "</style>\n",
       "<table border=\"1\" class=\"dataframe\">\n",
       "  <thead>\n",
       "    <tr style=\"text-align: right;\">\n",
       "      <th></th>\n",
       "      <th>Unnamed: 0</th>\n",
       "      <th>State Code</th>\n",
       "      <th>County Code</th>\n",
       "      <th>Site Num</th>\n",
       "      <th>Address</th>\n",
       "      <th>State</th>\n",
       "      <th>County</th>\n",
       "      <th>City</th>\n",
       "      <th>Date Local</th>\n",
       "      <th>NO2 Units</th>\n",
       "      <th>...</th>\n",
       "      <th>SO2 Units</th>\n",
       "      <th>SO2 Mean</th>\n",
       "      <th>SO2 1st Max Value</th>\n",
       "      <th>SO2 1st Max Hour</th>\n",
       "      <th>SO2 AQI</th>\n",
       "      <th>CO Units</th>\n",
       "      <th>CO Mean</th>\n",
       "      <th>CO 1st Max Value</th>\n",
       "      <th>CO 1st Max Hour</th>\n",
       "      <th>CO AQI</th>\n",
       "    </tr>\n",
       "  </thead>\n",
       "  <tbody>\n",
       "    <tr>\n",
       "      <th>0</th>\n",
       "      <td>0</td>\n",
       "      <td>4</td>\n",
       "      <td>13</td>\n",
       "      <td>3002</td>\n",
       "      <td>1645 E ROOSEVELT ST-CENTRAL PHOENIX STN</td>\n",
       "      <td>Arizona</td>\n",
       "      <td>Maricopa</td>\n",
       "      <td>Phoenix</td>\n",
       "      <td>01-01-2006</td>\n",
       "      <td>Parts per billion</td>\n",
       "      <td>...</td>\n",
       "      <td>Parts per billion</td>\n",
       "      <td>0.875000</td>\n",
       "      <td>2.0</td>\n",
       "      <td>0</td>\n",
       "      <td>3.0</td>\n",
       "      <td>Parts per million</td>\n",
       "      <td>1.054167</td>\n",
       "      <td>2.20</td>\n",
       "      <td>2</td>\n",
       "      <td>NaN</td>\n",
       "    </tr>\n",
       "    <tr>\n",
       "      <th>1</th>\n",
       "      <td>1</td>\n",
       "      <td>4</td>\n",
       "      <td>13</td>\n",
       "      <td>3002</td>\n",
       "      <td>1645 E ROOSEVELT ST-CENTRAL PHOENIX STN</td>\n",
       "      <td>Arizona</td>\n",
       "      <td>Maricopa</td>\n",
       "      <td>Phoenix</td>\n",
       "      <td>01-01-2006</td>\n",
       "      <td>Parts per billion</td>\n",
       "      <td>...</td>\n",
       "      <td>Parts per billion</td>\n",
       "      <td>0.875000</td>\n",
       "      <td>2.0</td>\n",
       "      <td>0</td>\n",
       "      <td>3.0</td>\n",
       "      <td>Parts per million</td>\n",
       "      <td>0.910526</td>\n",
       "      <td>1.70</td>\n",
       "      <td>5</td>\n",
       "      <td>19.0</td>\n",
       "    </tr>\n",
       "    <tr>\n",
       "      <th>2</th>\n",
       "      <td>2</td>\n",
       "      <td>4</td>\n",
       "      <td>13</td>\n",
       "      <td>3002</td>\n",
       "      <td>1645 E ROOSEVELT ST-CENTRAL PHOENIX STN</td>\n",
       "      <td>Arizona</td>\n",
       "      <td>Maricopa</td>\n",
       "      <td>Phoenix</td>\n",
       "      <td>01-01-2006</td>\n",
       "      <td>Parts per billion</td>\n",
       "      <td>...</td>\n",
       "      <td>Parts per billion</td>\n",
       "      <td>0.862500</td>\n",
       "      <td>2.0</td>\n",
       "      <td>2</td>\n",
       "      <td>NaN</td>\n",
       "      <td>Parts per million</td>\n",
       "      <td>1.054167</td>\n",
       "      <td>2.20</td>\n",
       "      <td>2</td>\n",
       "      <td>NaN</td>\n",
       "    </tr>\n",
       "    <tr>\n",
       "      <th>3</th>\n",
       "      <td>3</td>\n",
       "      <td>4</td>\n",
       "      <td>13</td>\n",
       "      <td>3002</td>\n",
       "      <td>1645 E ROOSEVELT ST-CENTRAL PHOENIX STN</td>\n",
       "      <td>Arizona</td>\n",
       "      <td>Maricopa</td>\n",
       "      <td>Phoenix</td>\n",
       "      <td>01-01-2006</td>\n",
       "      <td>Parts per billion</td>\n",
       "      <td>...</td>\n",
       "      <td>Parts per billion</td>\n",
       "      <td>0.862500</td>\n",
       "      <td>2.0</td>\n",
       "      <td>2</td>\n",
       "      <td>NaN</td>\n",
       "      <td>Parts per million</td>\n",
       "      <td>0.910526</td>\n",
       "      <td>1.70</td>\n",
       "      <td>5</td>\n",
       "      <td>19.0</td>\n",
       "    </tr>\n",
       "    <tr>\n",
       "      <th>4</th>\n",
       "      <td>4</td>\n",
       "      <td>4</td>\n",
       "      <td>13</td>\n",
       "      <td>3002</td>\n",
       "      <td>1645 E ROOSEVELT ST-CENTRAL PHOENIX STN</td>\n",
       "      <td>Arizona</td>\n",
       "      <td>Maricopa</td>\n",
       "      <td>Phoenix</td>\n",
       "      <td>02-01-2006</td>\n",
       "      <td>Parts per billion</td>\n",
       "      <td>...</td>\n",
       "      <td>Parts per billion</td>\n",
       "      <td>1.125000</td>\n",
       "      <td>6.0</td>\n",
       "      <td>10</td>\n",
       "      <td>9.0</td>\n",
       "      <td>Parts per million</td>\n",
       "      <td>0.445833</td>\n",
       "      <td>2.10</td>\n",
       "      <td>0</td>\n",
       "      <td>NaN</td>\n",
       "    </tr>\n",
       "    <tr>\n",
       "      <th>...</th>\n",
       "      <td>...</td>\n",
       "      <td>...</td>\n",
       "      <td>...</td>\n",
       "      <td>...</td>\n",
       "      <td>...</td>\n",
       "      <td>...</td>\n",
       "      <td>...</td>\n",
       "      <td>...</td>\n",
       "      <td>...</td>\n",
       "      <td>...</td>\n",
       "      <td>...</td>\n",
       "      <td>...</td>\n",
       "      <td>...</td>\n",
       "      <td>...</td>\n",
       "      <td>...</td>\n",
       "      <td>...</td>\n",
       "      <td>...</td>\n",
       "      <td>...</td>\n",
       "      <td>...</td>\n",
       "      <td>...</td>\n",
       "      <td>...</td>\n",
       "    </tr>\n",
       "    <tr>\n",
       "      <th>520104</th>\n",
       "      <td>80163</td>\n",
       "      <td>41</td>\n",
       "      <td>51</td>\n",
       "      <td>80</td>\n",
       "      <td>SE LAFAYETTE/5824 SE LAFAYETTE</td>\n",
       "      <td>Oregon</td>\n",
       "      <td>Multnomah</td>\n",
       "      <td>Portland</td>\n",
       "      <td>05-06-2010</td>\n",
       "      <td>Parts per billion</td>\n",
       "      <td>...</td>\n",
       "      <td>Parts per billion</td>\n",
       "      <td>1.287500</td>\n",
       "      <td>2.0</td>\n",
       "      <td>1</td>\n",
       "      <td>3.0</td>\n",
       "      <td>Parts per million</td>\n",
       "      <td>0.363750</td>\n",
       "      <td>1.05</td>\n",
       "      <td>21</td>\n",
       "      <td>NaN</td>\n",
       "    </tr>\n",
       "    <tr>\n",
       "      <th>520105</th>\n",
       "      <td>80164</td>\n",
       "      <td>41</td>\n",
       "      <td>51</td>\n",
       "      <td>80</td>\n",
       "      <td>SE LAFAYETTE/5824 SE LAFAYETTE</td>\n",
       "      <td>Oregon</td>\n",
       "      <td>Multnomah</td>\n",
       "      <td>Portland</td>\n",
       "      <td>05-06-2010</td>\n",
       "      <td>Parts per billion</td>\n",
       "      <td>...</td>\n",
       "      <td>Parts per billion</td>\n",
       "      <td>1.287500</td>\n",
       "      <td>2.0</td>\n",
       "      <td>1</td>\n",
       "      <td>3.0</td>\n",
       "      <td>Parts per million</td>\n",
       "      <td>0.308333</td>\n",
       "      <td>0.60</td>\n",
       "      <td>23</td>\n",
       "      <td>7.0</td>\n",
       "    </tr>\n",
       "    <tr>\n",
       "      <th>520106</th>\n",
       "      <td>80165</td>\n",
       "      <td>41</td>\n",
       "      <td>51</td>\n",
       "      <td>80</td>\n",
       "      <td>SE LAFAYETTE/5824 SE LAFAYETTE</td>\n",
       "      <td>Oregon</td>\n",
       "      <td>Multnomah</td>\n",
       "      <td>Portland</td>\n",
       "      <td>05-06-2010</td>\n",
       "      <td>Parts per billion</td>\n",
       "      <td>...</td>\n",
       "      <td>Parts per billion</td>\n",
       "      <td>1.262500</td>\n",
       "      <td>1.9</td>\n",
       "      <td>2</td>\n",
       "      <td>NaN</td>\n",
       "      <td>Parts per million</td>\n",
       "      <td>0.363750</td>\n",
       "      <td>1.05</td>\n",
       "      <td>21</td>\n",
       "      <td>NaN</td>\n",
       "    </tr>\n",
       "    <tr>\n",
       "      <th>520107</th>\n",
       "      <td>80166</td>\n",
       "      <td>41</td>\n",
       "      <td>51</td>\n",
       "      <td>80</td>\n",
       "      <td>SE LAFAYETTE/5824 SE LAFAYETTE</td>\n",
       "      <td>Oregon</td>\n",
       "      <td>Multnomah</td>\n",
       "      <td>Portland</td>\n",
       "      <td>05-06-2010</td>\n",
       "      <td>Parts per billion</td>\n",
       "      <td>...</td>\n",
       "      <td>Parts per billion</td>\n",
       "      <td>1.262500</td>\n",
       "      <td>1.9</td>\n",
       "      <td>2</td>\n",
       "      <td>NaN</td>\n",
       "      <td>Parts per million</td>\n",
       "      <td>0.308333</td>\n",
       "      <td>0.60</td>\n",
       "      <td>23</td>\n",
       "      <td>7.0</td>\n",
       "    </tr>\n",
       "    <tr>\n",
       "      <th>520108</th>\n",
       "      <td>80167</td>\n",
       "      <td>41</td>\n",
       "      <td>51</td>\n",
       "      <td>80</td>\n",
       "      <td>SE LAFAYETTE/5824 SE LAFAYETTE</td>\n",
       "      <td>Oregon</td>\n",
       "      <td>Multnomah</td>\n",
       "      <td>Portland</td>\n",
       "      <td>06-06-2010</td>\n",
       "      <td>Parts per billion</td>\n",
       "      <td>...</td>\n",
       "      <td>Parts per billion</td>\n",
       "      <td>1.279167</td>\n",
       "      <td>1.8</td>\n",
       "      <td>2</td>\n",
       "      <td>1.0</td>\n",
       "      <td>Parts per million</td>\n",
       "      <td>0.328333</td>\n",
       "      <td>0.63</td>\n",
       "      <td>2</td>\n",
       "      <td>NaN</td>\n",
       "    </tr>\n",
       "  </tbody>\n",
       "</table>\n",
       "<p>520109 rows × 29 columns</p>\n",
       "</div>"
      ],
      "text/plain": [
       "        Unnamed: 0  State Code  County Code  Site Num  \\\n",
       "0                0           4           13      3002   \n",
       "1                1           4           13      3002   \n",
       "2                2           4           13      3002   \n",
       "3                3           4           13      3002   \n",
       "4                4           4           13      3002   \n",
       "...            ...         ...          ...       ...   \n",
       "520104       80163          41           51        80   \n",
       "520105       80164          41           51        80   \n",
       "520106       80165          41           51        80   \n",
       "520107       80166          41           51        80   \n",
       "520108       80167          41           51        80   \n",
       "\n",
       "                                        Address    State     County      City  \\\n",
       "0       1645 E ROOSEVELT ST-CENTRAL PHOENIX STN  Arizona   Maricopa   Phoenix   \n",
       "1       1645 E ROOSEVELT ST-CENTRAL PHOENIX STN  Arizona   Maricopa   Phoenix   \n",
       "2       1645 E ROOSEVELT ST-CENTRAL PHOENIX STN  Arizona   Maricopa   Phoenix   \n",
       "3       1645 E ROOSEVELT ST-CENTRAL PHOENIX STN  Arizona   Maricopa   Phoenix   \n",
       "4       1645 E ROOSEVELT ST-CENTRAL PHOENIX STN  Arizona   Maricopa   Phoenix   \n",
       "...                                         ...      ...        ...       ...   \n",
       "520104           SE LAFAYETTE/5824 SE LAFAYETTE   Oregon  Multnomah  Portland   \n",
       "520105           SE LAFAYETTE/5824 SE LAFAYETTE   Oregon  Multnomah  Portland   \n",
       "520106           SE LAFAYETTE/5824 SE LAFAYETTE   Oregon  Multnomah  Portland   \n",
       "520107           SE LAFAYETTE/5824 SE LAFAYETTE   Oregon  Multnomah  Portland   \n",
       "520108           SE LAFAYETTE/5824 SE LAFAYETTE   Oregon  Multnomah  Portland   \n",
       "\n",
       "        Date Local          NO2 Units  ...          SO2 Units  SO2 Mean  \\\n",
       "0       01-01-2006  Parts per billion  ...  Parts per billion  0.875000   \n",
       "1       01-01-2006  Parts per billion  ...  Parts per billion  0.875000   \n",
       "2       01-01-2006  Parts per billion  ...  Parts per billion  0.862500   \n",
       "3       01-01-2006  Parts per billion  ...  Parts per billion  0.862500   \n",
       "4       02-01-2006  Parts per billion  ...  Parts per billion  1.125000   \n",
       "...            ...                ...  ...                ...       ...   \n",
       "520104  05-06-2010  Parts per billion  ...  Parts per billion  1.287500   \n",
       "520105  05-06-2010  Parts per billion  ...  Parts per billion  1.287500   \n",
       "520106  05-06-2010  Parts per billion  ...  Parts per billion  1.262500   \n",
       "520107  05-06-2010  Parts per billion  ...  Parts per billion  1.262500   \n",
       "520108  06-06-2010  Parts per billion  ...  Parts per billion  1.279167   \n",
       "\n",
       "        SO2 1st Max Value  SO2 1st Max Hour SO2 AQI           CO Units  \\\n",
       "0                     2.0                 0     3.0  Parts per million   \n",
       "1                     2.0                 0     3.0  Parts per million   \n",
       "2                     2.0                 2     NaN  Parts per million   \n",
       "3                     2.0                 2     NaN  Parts per million   \n",
       "4                     6.0                10     9.0  Parts per million   \n",
       "...                   ...               ...     ...                ...   \n",
       "520104                2.0                 1     3.0  Parts per million   \n",
       "520105                2.0                 1     3.0  Parts per million   \n",
       "520106                1.9                 2     NaN  Parts per million   \n",
       "520107                1.9                 2     NaN  Parts per million   \n",
       "520108                1.8                 2     1.0  Parts per million   \n",
       "\n",
       "         CO Mean  CO 1st Max Value  CO 1st Max Hour CO AQI  \n",
       "0       1.054167              2.20                2    NaN  \n",
       "1       0.910526              1.70                5   19.0  \n",
       "2       1.054167              2.20                2    NaN  \n",
       "3       0.910526              1.70                5   19.0  \n",
       "4       0.445833              2.10                0    NaN  \n",
       "...          ...               ...              ...    ...  \n",
       "520104  0.363750              1.05               21    NaN  \n",
       "520105  0.308333              0.60               23    7.0  \n",
       "520106  0.363750              1.05               21    NaN  \n",
       "520107  0.308333              0.60               23    7.0  \n",
       "520108  0.328333              0.63                2    NaN  \n",
       "\n",
       "[520109 rows x 29 columns]"
      ]
     },
     "execution_count": 2,
     "metadata": {},
     "output_type": "execute_result"
    }
   ],
   "source": [
    "# Read the dataset \n",
    "df=pd.read_csv(\"C:\\\\Users\\\\LENOVO\\\\Downloads\\\\US Pollution 2006-2010.csv\")\n",
    "df"
   ]
  },
  {
   "cell_type": "code",
   "execution_count": 3,
   "id": "f92e7ff7",
   "metadata": {},
   "outputs": [
    {
     "data": {
      "text/plain": [
       "Index(['Unnamed: 0', 'State Code', 'County Code', 'Site Num', 'Address',\n",
       "       'State', 'County', 'City', 'Date Local', 'NO2 Units', 'NO2 Mean',\n",
       "       'NO2 1st Max Value', 'NO2 1st Max Hour', 'NO2 AQI', 'O3 Units',\n",
       "       'O3 Mean', 'O3 1st Max Value', 'O3 1st Max Hour', 'O3 AQI', 'SO2 Units',\n",
       "       'SO2 Mean', 'SO2 1st Max Value', 'SO2 1st Max Hour', 'SO2 AQI',\n",
       "       'CO Units', 'CO Mean', 'CO 1st Max Value', 'CO 1st Max Hour', 'CO AQI'],\n",
       "      dtype='object')"
      ]
     },
     "execution_count": 3,
     "metadata": {},
     "output_type": "execute_result"
    }
   ],
   "source": [
    "#check the columns in the dataset\n",
    "df.columns\n"
   ]
  },
  {
   "cell_type": "code",
   "execution_count": 4,
   "id": "1fb0837b",
   "metadata": {},
   "outputs": [],
   "source": [
    "#drop columns \n",
    "df = df.drop(columns=['Unnamed: 0'])"
   ]
  },
  {
   "cell_type": "code",
   "execution_count": 5,
   "id": "de0d335a",
   "metadata": {},
   "outputs": [
    {
     "data": {
      "text/html": [
       "<div>\n",
       "<style scoped>\n",
       "    .dataframe tbody tr th:only-of-type {\n",
       "        vertical-align: middle;\n",
       "    }\n",
       "\n",
       "    .dataframe tbody tr th {\n",
       "        vertical-align: top;\n",
       "    }\n",
       "\n",
       "    .dataframe thead th {\n",
       "        text-align: right;\n",
       "    }\n",
       "</style>\n",
       "<table border=\"1\" class=\"dataframe\">\n",
       "  <thead>\n",
       "    <tr style=\"text-align: right;\">\n",
       "      <th></th>\n",
       "      <th>State Code</th>\n",
       "      <th>County Code</th>\n",
       "      <th>Site Num</th>\n",
       "      <th>Address</th>\n",
       "      <th>State</th>\n",
       "      <th>County</th>\n",
       "      <th>City</th>\n",
       "      <th>Date Local</th>\n",
       "      <th>NO2 Units</th>\n",
       "      <th>NO2 Mean</th>\n",
       "      <th>...</th>\n",
       "      <th>SO2 Units</th>\n",
       "      <th>SO2 Mean</th>\n",
       "      <th>SO2 1st Max Value</th>\n",
       "      <th>SO2 1st Max Hour</th>\n",
       "      <th>SO2 AQI</th>\n",
       "      <th>CO Units</th>\n",
       "      <th>CO Mean</th>\n",
       "      <th>CO 1st Max Value</th>\n",
       "      <th>CO 1st Max Hour</th>\n",
       "      <th>CO AQI</th>\n",
       "    </tr>\n",
       "  </thead>\n",
       "  <tbody>\n",
       "    <tr>\n",
       "      <th>0</th>\n",
       "      <td>4</td>\n",
       "      <td>13</td>\n",
       "      <td>3002</td>\n",
       "      <td>1645 E ROOSEVELT ST-CENTRAL PHOENIX STN</td>\n",
       "      <td>Arizona</td>\n",
       "      <td>Maricopa</td>\n",
       "      <td>Phoenix</td>\n",
       "      <td>01-01-2006</td>\n",
       "      <td>Parts per billion</td>\n",
       "      <td>32.708333</td>\n",
       "      <td>...</td>\n",
       "      <td>Parts per billion</td>\n",
       "      <td>0.875000</td>\n",
       "      <td>2.0</td>\n",
       "      <td>0</td>\n",
       "      <td>3.0</td>\n",
       "      <td>Parts per million</td>\n",
       "      <td>1.054167</td>\n",
       "      <td>2.2</td>\n",
       "      <td>2</td>\n",
       "      <td>NaN</td>\n",
       "    </tr>\n",
       "    <tr>\n",
       "      <th>1</th>\n",
       "      <td>4</td>\n",
       "      <td>13</td>\n",
       "      <td>3002</td>\n",
       "      <td>1645 E ROOSEVELT ST-CENTRAL PHOENIX STN</td>\n",
       "      <td>Arizona</td>\n",
       "      <td>Maricopa</td>\n",
       "      <td>Phoenix</td>\n",
       "      <td>01-01-2006</td>\n",
       "      <td>Parts per billion</td>\n",
       "      <td>32.708333</td>\n",
       "      <td>...</td>\n",
       "      <td>Parts per billion</td>\n",
       "      <td>0.875000</td>\n",
       "      <td>2.0</td>\n",
       "      <td>0</td>\n",
       "      <td>3.0</td>\n",
       "      <td>Parts per million</td>\n",
       "      <td>0.910526</td>\n",
       "      <td>1.7</td>\n",
       "      <td>5</td>\n",
       "      <td>19.0</td>\n",
       "    </tr>\n",
       "    <tr>\n",
       "      <th>2</th>\n",
       "      <td>4</td>\n",
       "      <td>13</td>\n",
       "      <td>3002</td>\n",
       "      <td>1645 E ROOSEVELT ST-CENTRAL PHOENIX STN</td>\n",
       "      <td>Arizona</td>\n",
       "      <td>Maricopa</td>\n",
       "      <td>Phoenix</td>\n",
       "      <td>01-01-2006</td>\n",
       "      <td>Parts per billion</td>\n",
       "      <td>32.708333</td>\n",
       "      <td>...</td>\n",
       "      <td>Parts per billion</td>\n",
       "      <td>0.862500</td>\n",
       "      <td>2.0</td>\n",
       "      <td>2</td>\n",
       "      <td>NaN</td>\n",
       "      <td>Parts per million</td>\n",
       "      <td>1.054167</td>\n",
       "      <td>2.2</td>\n",
       "      <td>2</td>\n",
       "      <td>NaN</td>\n",
       "    </tr>\n",
       "    <tr>\n",
       "      <th>3</th>\n",
       "      <td>4</td>\n",
       "      <td>13</td>\n",
       "      <td>3002</td>\n",
       "      <td>1645 E ROOSEVELT ST-CENTRAL PHOENIX STN</td>\n",
       "      <td>Arizona</td>\n",
       "      <td>Maricopa</td>\n",
       "      <td>Phoenix</td>\n",
       "      <td>01-01-2006</td>\n",
       "      <td>Parts per billion</td>\n",
       "      <td>32.708333</td>\n",
       "      <td>...</td>\n",
       "      <td>Parts per billion</td>\n",
       "      <td>0.862500</td>\n",
       "      <td>2.0</td>\n",
       "      <td>2</td>\n",
       "      <td>NaN</td>\n",
       "      <td>Parts per million</td>\n",
       "      <td>0.910526</td>\n",
       "      <td>1.7</td>\n",
       "      <td>5</td>\n",
       "      <td>19.0</td>\n",
       "    </tr>\n",
       "    <tr>\n",
       "      <th>4</th>\n",
       "      <td>4</td>\n",
       "      <td>13</td>\n",
       "      <td>3002</td>\n",
       "      <td>1645 E ROOSEVELT ST-CENTRAL PHOENIX STN</td>\n",
       "      <td>Arizona</td>\n",
       "      <td>Maricopa</td>\n",
       "      <td>Phoenix</td>\n",
       "      <td>02-01-2006</td>\n",
       "      <td>Parts per billion</td>\n",
       "      <td>28.166667</td>\n",
       "      <td>...</td>\n",
       "      <td>Parts per billion</td>\n",
       "      <td>1.125000</td>\n",
       "      <td>6.0</td>\n",
       "      <td>10</td>\n",
       "      <td>9.0</td>\n",
       "      <td>Parts per million</td>\n",
       "      <td>0.445833</td>\n",
       "      <td>2.1</td>\n",
       "      <td>0</td>\n",
       "      <td>NaN</td>\n",
       "    </tr>\n",
       "    <tr>\n",
       "      <th>5</th>\n",
       "      <td>4</td>\n",
       "      <td>13</td>\n",
       "      <td>3002</td>\n",
       "      <td>1645 E ROOSEVELT ST-CENTRAL PHOENIX STN</td>\n",
       "      <td>Arizona</td>\n",
       "      <td>Maricopa</td>\n",
       "      <td>Phoenix</td>\n",
       "      <td>02-01-2006</td>\n",
       "      <td>Parts per billion</td>\n",
       "      <td>28.166667</td>\n",
       "      <td>...</td>\n",
       "      <td>Parts per billion</td>\n",
       "      <td>1.125000</td>\n",
       "      <td>6.0</td>\n",
       "      <td>10</td>\n",
       "      <td>9.0</td>\n",
       "      <td>Parts per million</td>\n",
       "      <td>0.612500</td>\n",
       "      <td>1.5</td>\n",
       "      <td>1</td>\n",
       "      <td>17.0</td>\n",
       "    </tr>\n",
       "    <tr>\n",
       "      <th>6</th>\n",
       "      <td>4</td>\n",
       "      <td>13</td>\n",
       "      <td>3002</td>\n",
       "      <td>1645 E ROOSEVELT ST-CENTRAL PHOENIX STN</td>\n",
       "      <td>Arizona</td>\n",
       "      <td>Maricopa</td>\n",
       "      <td>Phoenix</td>\n",
       "      <td>02-01-2006</td>\n",
       "      <td>Parts per billion</td>\n",
       "      <td>28.166667</td>\n",
       "      <td>...</td>\n",
       "      <td>Parts per billion</td>\n",
       "      <td>1.112500</td>\n",
       "      <td>5.0</td>\n",
       "      <td>11</td>\n",
       "      <td>NaN</td>\n",
       "      <td>Parts per million</td>\n",
       "      <td>0.445833</td>\n",
       "      <td>2.1</td>\n",
       "      <td>0</td>\n",
       "      <td>NaN</td>\n",
       "    </tr>\n",
       "    <tr>\n",
       "      <th>7</th>\n",
       "      <td>4</td>\n",
       "      <td>13</td>\n",
       "      <td>3002</td>\n",
       "      <td>1645 E ROOSEVELT ST-CENTRAL PHOENIX STN</td>\n",
       "      <td>Arizona</td>\n",
       "      <td>Maricopa</td>\n",
       "      <td>Phoenix</td>\n",
       "      <td>02-01-2006</td>\n",
       "      <td>Parts per billion</td>\n",
       "      <td>28.166667</td>\n",
       "      <td>...</td>\n",
       "      <td>Parts per billion</td>\n",
       "      <td>1.112500</td>\n",
       "      <td>5.0</td>\n",
       "      <td>11</td>\n",
       "      <td>NaN</td>\n",
       "      <td>Parts per million</td>\n",
       "      <td>0.612500</td>\n",
       "      <td>1.5</td>\n",
       "      <td>1</td>\n",
       "      <td>17.0</td>\n",
       "    </tr>\n",
       "    <tr>\n",
       "      <th>8</th>\n",
       "      <td>4</td>\n",
       "      <td>13</td>\n",
       "      <td>3002</td>\n",
       "      <td>1645 E ROOSEVELT ST-CENTRAL PHOENIX STN</td>\n",
       "      <td>Arizona</td>\n",
       "      <td>Maricopa</td>\n",
       "      <td>Phoenix</td>\n",
       "      <td>03-01-2006</td>\n",
       "      <td>Parts per billion</td>\n",
       "      <td>31.666667</td>\n",
       "      <td>...</td>\n",
       "      <td>Parts per billion</td>\n",
       "      <td>0.708333</td>\n",
       "      <td>4.0</td>\n",
       "      <td>20</td>\n",
       "      <td>6.0</td>\n",
       "      <td>Parts per million</td>\n",
       "      <td>0.529167</td>\n",
       "      <td>2.0</td>\n",
       "      <td>20</td>\n",
       "      <td>NaN</td>\n",
       "    </tr>\n",
       "    <tr>\n",
       "      <th>9</th>\n",
       "      <td>4</td>\n",
       "      <td>13</td>\n",
       "      <td>3002</td>\n",
       "      <td>1645 E ROOSEVELT ST-CENTRAL PHOENIX STN</td>\n",
       "      <td>Arizona</td>\n",
       "      <td>Maricopa</td>\n",
       "      <td>Phoenix</td>\n",
       "      <td>03-01-2006</td>\n",
       "      <td>Parts per billion</td>\n",
       "      <td>31.666667</td>\n",
       "      <td>...</td>\n",
       "      <td>Parts per billion</td>\n",
       "      <td>0.708333</td>\n",
       "      <td>4.0</td>\n",
       "      <td>20</td>\n",
       "      <td>6.0</td>\n",
       "      <td>Parts per million</td>\n",
       "      <td>0.433333</td>\n",
       "      <td>1.0</td>\n",
       "      <td>23</td>\n",
       "      <td>11.0</td>\n",
       "    </tr>\n",
       "    <tr>\n",
       "      <th>10</th>\n",
       "      <td>4</td>\n",
       "      <td>13</td>\n",
       "      <td>3002</td>\n",
       "      <td>1645 E ROOSEVELT ST-CENTRAL PHOENIX STN</td>\n",
       "      <td>Arizona</td>\n",
       "      <td>Maricopa</td>\n",
       "      <td>Phoenix</td>\n",
       "      <td>03-01-2006</td>\n",
       "      <td>Parts per billion</td>\n",
       "      <td>31.666667</td>\n",
       "      <td>...</td>\n",
       "      <td>Parts per billion</td>\n",
       "      <td>0.687500</td>\n",
       "      <td>2.6</td>\n",
       "      <td>20</td>\n",
       "      <td>NaN</td>\n",
       "      <td>Parts per million</td>\n",
       "      <td>0.529167</td>\n",
       "      <td>2.0</td>\n",
       "      <td>20</td>\n",
       "      <td>NaN</td>\n",
       "    </tr>\n",
       "    <tr>\n",
       "      <th>11</th>\n",
       "      <td>4</td>\n",
       "      <td>13</td>\n",
       "      <td>3002</td>\n",
       "      <td>1645 E ROOSEVELT ST-CENTRAL PHOENIX STN</td>\n",
       "      <td>Arizona</td>\n",
       "      <td>Maricopa</td>\n",
       "      <td>Phoenix</td>\n",
       "      <td>03-01-2006</td>\n",
       "      <td>Parts per billion</td>\n",
       "      <td>31.666667</td>\n",
       "      <td>...</td>\n",
       "      <td>Parts per billion</td>\n",
       "      <td>0.687500</td>\n",
       "      <td>2.6</td>\n",
       "      <td>20</td>\n",
       "      <td>NaN</td>\n",
       "      <td>Parts per million</td>\n",
       "      <td>0.433333</td>\n",
       "      <td>1.0</td>\n",
       "      <td>23</td>\n",
       "      <td>11.0</td>\n",
       "    </tr>\n",
       "    <tr>\n",
       "      <th>12</th>\n",
       "      <td>4</td>\n",
       "      <td>13</td>\n",
       "      <td>3002</td>\n",
       "      <td>1645 E ROOSEVELT ST-CENTRAL PHOENIX STN</td>\n",
       "      <td>Arizona</td>\n",
       "      <td>Maricopa</td>\n",
       "      <td>Phoenix</td>\n",
       "      <td>04-01-2006</td>\n",
       "      <td>Parts per billion</td>\n",
       "      <td>43.578947</td>\n",
       "      <td>...</td>\n",
       "      <td>Parts per billion</td>\n",
       "      <td>2.727273</td>\n",
       "      <td>6.0</td>\n",
       "      <td>19</td>\n",
       "      <td>9.0</td>\n",
       "      <td>Parts per million</td>\n",
       "      <td>1.252174</td>\n",
       "      <td>3.2</td>\n",
       "      <td>21</td>\n",
       "      <td>NaN</td>\n",
       "    </tr>\n",
       "    <tr>\n",
       "      <th>13</th>\n",
       "      <td>4</td>\n",
       "      <td>13</td>\n",
       "      <td>3002</td>\n",
       "      <td>1645 E ROOSEVELT ST-CENTRAL PHOENIX STN</td>\n",
       "      <td>Arizona</td>\n",
       "      <td>Maricopa</td>\n",
       "      <td>Phoenix</td>\n",
       "      <td>04-01-2006</td>\n",
       "      <td>Parts per billion</td>\n",
       "      <td>43.578947</td>\n",
       "      <td>...</td>\n",
       "      <td>Parts per billion</td>\n",
       "      <td>2.727273</td>\n",
       "      <td>6.0</td>\n",
       "      <td>19</td>\n",
       "      <td>9.0</td>\n",
       "      <td>Parts per million</td>\n",
       "      <td>1.062500</td>\n",
       "      <td>1.9</td>\n",
       "      <td>23</td>\n",
       "      <td>22.0</td>\n",
       "    </tr>\n",
       "    <tr>\n",
       "      <th>14</th>\n",
       "      <td>4</td>\n",
       "      <td>13</td>\n",
       "      <td>3002</td>\n",
       "      <td>1645 E ROOSEVELT ST-CENTRAL PHOENIX STN</td>\n",
       "      <td>Arizona</td>\n",
       "      <td>Maricopa</td>\n",
       "      <td>Phoenix</td>\n",
       "      <td>04-01-2006</td>\n",
       "      <td>Parts per billion</td>\n",
       "      <td>43.578947</td>\n",
       "      <td>...</td>\n",
       "      <td>Parts per billion</td>\n",
       "      <td>2.642857</td>\n",
       "      <td>5.0</td>\n",
       "      <td>23</td>\n",
       "      <td>NaN</td>\n",
       "      <td>Parts per million</td>\n",
       "      <td>1.252174</td>\n",
       "      <td>3.2</td>\n",
       "      <td>21</td>\n",
       "      <td>NaN</td>\n",
       "    </tr>\n",
       "  </tbody>\n",
       "</table>\n",
       "<p>15 rows × 28 columns</p>\n",
       "</div>"
      ],
      "text/plain": [
       "    State Code  County Code  Site Num  \\\n",
       "0            4           13      3002   \n",
       "1            4           13      3002   \n",
       "2            4           13      3002   \n",
       "3            4           13      3002   \n",
       "4            4           13      3002   \n",
       "5            4           13      3002   \n",
       "6            4           13      3002   \n",
       "7            4           13      3002   \n",
       "8            4           13      3002   \n",
       "9            4           13      3002   \n",
       "10           4           13      3002   \n",
       "11           4           13      3002   \n",
       "12           4           13      3002   \n",
       "13           4           13      3002   \n",
       "14           4           13      3002   \n",
       "\n",
       "                                    Address    State    County     City  \\\n",
       "0   1645 E ROOSEVELT ST-CENTRAL PHOENIX STN  Arizona  Maricopa  Phoenix   \n",
       "1   1645 E ROOSEVELT ST-CENTRAL PHOENIX STN  Arizona  Maricopa  Phoenix   \n",
       "2   1645 E ROOSEVELT ST-CENTRAL PHOENIX STN  Arizona  Maricopa  Phoenix   \n",
       "3   1645 E ROOSEVELT ST-CENTRAL PHOENIX STN  Arizona  Maricopa  Phoenix   \n",
       "4   1645 E ROOSEVELT ST-CENTRAL PHOENIX STN  Arizona  Maricopa  Phoenix   \n",
       "5   1645 E ROOSEVELT ST-CENTRAL PHOENIX STN  Arizona  Maricopa  Phoenix   \n",
       "6   1645 E ROOSEVELT ST-CENTRAL PHOENIX STN  Arizona  Maricopa  Phoenix   \n",
       "7   1645 E ROOSEVELT ST-CENTRAL PHOENIX STN  Arizona  Maricopa  Phoenix   \n",
       "8   1645 E ROOSEVELT ST-CENTRAL PHOENIX STN  Arizona  Maricopa  Phoenix   \n",
       "9   1645 E ROOSEVELT ST-CENTRAL PHOENIX STN  Arizona  Maricopa  Phoenix   \n",
       "10  1645 E ROOSEVELT ST-CENTRAL PHOENIX STN  Arizona  Maricopa  Phoenix   \n",
       "11  1645 E ROOSEVELT ST-CENTRAL PHOENIX STN  Arizona  Maricopa  Phoenix   \n",
       "12  1645 E ROOSEVELT ST-CENTRAL PHOENIX STN  Arizona  Maricopa  Phoenix   \n",
       "13  1645 E ROOSEVELT ST-CENTRAL PHOENIX STN  Arizona  Maricopa  Phoenix   \n",
       "14  1645 E ROOSEVELT ST-CENTRAL PHOENIX STN  Arizona  Maricopa  Phoenix   \n",
       "\n",
       "    Date Local          NO2 Units   NO2 Mean  ...          SO2 Units  \\\n",
       "0   01-01-2006  Parts per billion  32.708333  ...  Parts per billion   \n",
       "1   01-01-2006  Parts per billion  32.708333  ...  Parts per billion   \n",
       "2   01-01-2006  Parts per billion  32.708333  ...  Parts per billion   \n",
       "3   01-01-2006  Parts per billion  32.708333  ...  Parts per billion   \n",
       "4   02-01-2006  Parts per billion  28.166667  ...  Parts per billion   \n",
       "5   02-01-2006  Parts per billion  28.166667  ...  Parts per billion   \n",
       "6   02-01-2006  Parts per billion  28.166667  ...  Parts per billion   \n",
       "7   02-01-2006  Parts per billion  28.166667  ...  Parts per billion   \n",
       "8   03-01-2006  Parts per billion  31.666667  ...  Parts per billion   \n",
       "9   03-01-2006  Parts per billion  31.666667  ...  Parts per billion   \n",
       "10  03-01-2006  Parts per billion  31.666667  ...  Parts per billion   \n",
       "11  03-01-2006  Parts per billion  31.666667  ...  Parts per billion   \n",
       "12  04-01-2006  Parts per billion  43.578947  ...  Parts per billion   \n",
       "13  04-01-2006  Parts per billion  43.578947  ...  Parts per billion   \n",
       "14  04-01-2006  Parts per billion  43.578947  ...  Parts per billion   \n",
       "\n",
       "    SO2 Mean  SO2 1st Max Value SO2 1st Max Hour  SO2 AQI           CO Units  \\\n",
       "0   0.875000                2.0                0      3.0  Parts per million   \n",
       "1   0.875000                2.0                0      3.0  Parts per million   \n",
       "2   0.862500                2.0                2      NaN  Parts per million   \n",
       "3   0.862500                2.0                2      NaN  Parts per million   \n",
       "4   1.125000                6.0               10      9.0  Parts per million   \n",
       "5   1.125000                6.0               10      9.0  Parts per million   \n",
       "6   1.112500                5.0               11      NaN  Parts per million   \n",
       "7   1.112500                5.0               11      NaN  Parts per million   \n",
       "8   0.708333                4.0               20      6.0  Parts per million   \n",
       "9   0.708333                4.0               20      6.0  Parts per million   \n",
       "10  0.687500                2.6               20      NaN  Parts per million   \n",
       "11  0.687500                2.6               20      NaN  Parts per million   \n",
       "12  2.727273                6.0               19      9.0  Parts per million   \n",
       "13  2.727273                6.0               19      9.0  Parts per million   \n",
       "14  2.642857                5.0               23      NaN  Parts per million   \n",
       "\n",
       "     CO Mean  CO 1st Max Value CO 1st Max Hour  CO AQI  \n",
       "0   1.054167               2.2               2     NaN  \n",
       "1   0.910526               1.7               5    19.0  \n",
       "2   1.054167               2.2               2     NaN  \n",
       "3   0.910526               1.7               5    19.0  \n",
       "4   0.445833               2.1               0     NaN  \n",
       "5   0.612500               1.5               1    17.0  \n",
       "6   0.445833               2.1               0     NaN  \n",
       "7   0.612500               1.5               1    17.0  \n",
       "8   0.529167               2.0              20     NaN  \n",
       "9   0.433333               1.0              23    11.0  \n",
       "10  0.529167               2.0              20     NaN  \n",
       "11  0.433333               1.0              23    11.0  \n",
       "12  1.252174               3.2              21     NaN  \n",
       "13  1.062500               1.9              23    22.0  \n",
       "14  1.252174               3.2              21     NaN  \n",
       "\n",
       "[15 rows x 28 columns]"
      ]
     },
     "execution_count": 5,
     "metadata": {},
     "output_type": "execute_result"
    }
   ],
   "source": [
    "df.head(15)"
   ]
  },
  {
   "cell_type": "code",
   "execution_count": 6,
   "id": "061a8e5f",
   "metadata": {},
   "outputs": [
    {
     "data": {
      "text/html": [
       "<div>\n",
       "<style scoped>\n",
       "    .dataframe tbody tr th:only-of-type {\n",
       "        vertical-align: middle;\n",
       "    }\n",
       "\n",
       "    .dataframe tbody tr th {\n",
       "        vertical-align: top;\n",
       "    }\n",
       "\n",
       "    .dataframe thead th {\n",
       "        text-align: right;\n",
       "    }\n",
       "</style>\n",
       "<table border=\"1\" class=\"dataframe\">\n",
       "  <thead>\n",
       "    <tr style=\"text-align: right;\">\n",
       "      <th></th>\n",
       "      <th>State Code</th>\n",
       "      <th>County Code</th>\n",
       "      <th>Site Num</th>\n",
       "      <th>Address</th>\n",
       "      <th>State</th>\n",
       "      <th>County</th>\n",
       "      <th>City</th>\n",
       "      <th>Date Local</th>\n",
       "      <th>NO2 Units</th>\n",
       "      <th>NO2 Mean</th>\n",
       "      <th>...</th>\n",
       "      <th>SO2 Units</th>\n",
       "      <th>SO2 Mean</th>\n",
       "      <th>SO2 1st Max Value</th>\n",
       "      <th>SO2 1st Max Hour</th>\n",
       "      <th>SO2 AQI</th>\n",
       "      <th>CO Units</th>\n",
       "      <th>CO Mean</th>\n",
       "      <th>CO 1st Max Value</th>\n",
       "      <th>CO 1st Max Hour</th>\n",
       "      <th>CO AQI</th>\n",
       "    </tr>\n",
       "  </thead>\n",
       "  <tbody>\n",
       "    <tr>\n",
       "      <th>65744</th>\n",
       "      <td>37</td>\n",
       "      <td>119</td>\n",
       "      <td>41</td>\n",
       "      <td>1130 EASTWAY DRIVE</td>\n",
       "      <td>North Carolina</td>\n",
       "      <td>Mecklenburg</td>\n",
       "      <td>Charlotte</td>\n",
       "      <td>04-04-2006</td>\n",
       "      <td>Parts per billion</td>\n",
       "      <td>14.391304</td>\n",
       "      <td>...</td>\n",
       "      <td>Parts per billion</td>\n",
       "      <td>2.950000</td>\n",
       "      <td>10.5</td>\n",
       "      <td>22</td>\n",
       "      <td>14.0</td>\n",
       "      <td>Parts per million</td>\n",
       "      <td>0.241667</td>\n",
       "      <td>0.3</td>\n",
       "      <td>7</td>\n",
       "      <td>3.0</td>\n",
       "    </tr>\n",
       "    <tr>\n",
       "      <th>65748</th>\n",
       "      <td>37</td>\n",
       "      <td>119</td>\n",
       "      <td>41</td>\n",
       "      <td>1130 EASTWAY DRIVE</td>\n",
       "      <td>North Carolina</td>\n",
       "      <td>Mecklenburg</td>\n",
       "      <td>Charlotte</td>\n",
       "      <td>04-04-2006</td>\n",
       "      <td>Parts per billion</td>\n",
       "      <td>14.391304</td>\n",
       "      <td>...</td>\n",
       "      <td>Parts per billion</td>\n",
       "      <td>2.700000</td>\n",
       "      <td>7.7</td>\n",
       "      <td>23</td>\n",
       "      <td>NaN</td>\n",
       "      <td>Parts per million</td>\n",
       "      <td>0.241667</td>\n",
       "      <td>0.3</td>\n",
       "      <td>7</td>\n",
       "      <td>3.0</td>\n",
       "    </tr>\n",
       "    <tr>\n",
       "      <th>65848</th>\n",
       "      <td>37</td>\n",
       "      <td>119</td>\n",
       "      <td>41</td>\n",
       "      <td>1130 EASTWAY DRIVE</td>\n",
       "      <td>North Carolina</td>\n",
       "      <td>Mecklenburg</td>\n",
       "      <td>Charlotte</td>\n",
       "      <td>17-04-2006</td>\n",
       "      <td>Parts per billion</td>\n",
       "      <td>9.333333</td>\n",
       "      <td>...</td>\n",
       "      <td>Parts per billion</td>\n",
       "      <td>5.383333</td>\n",
       "      <td>25.5</td>\n",
       "      <td>5</td>\n",
       "      <td>36.0</td>\n",
       "      <td>Parts per million</td>\n",
       "      <td>0.229167</td>\n",
       "      <td>0.3</td>\n",
       "      <td>7</td>\n",
       "      <td>3.0</td>\n",
       "    </tr>\n",
       "    <tr>\n",
       "      <th>65852</th>\n",
       "      <td>37</td>\n",
       "      <td>119</td>\n",
       "      <td>41</td>\n",
       "      <td>1130 EASTWAY DRIVE</td>\n",
       "      <td>North Carolina</td>\n",
       "      <td>Mecklenburg</td>\n",
       "      <td>Charlotte</td>\n",
       "      <td>17-04-2006</td>\n",
       "      <td>Parts per billion</td>\n",
       "      <td>9.333333</td>\n",
       "      <td>...</td>\n",
       "      <td>Parts per billion</td>\n",
       "      <td>5.350000</td>\n",
       "      <td>15.9</td>\n",
       "      <td>5</td>\n",
       "      <td>NaN</td>\n",
       "      <td>Parts per million</td>\n",
       "      <td>0.229167</td>\n",
       "      <td>0.3</td>\n",
       "      <td>7</td>\n",
       "      <td>3.0</td>\n",
       "    </tr>\n",
       "    <tr>\n",
       "      <th>130194</th>\n",
       "      <td>6</td>\n",
       "      <td>73</td>\n",
       "      <td>1</td>\n",
       "      <td>80 E. 'J' ST., CHULA VISTA</td>\n",
       "      <td>California</td>\n",
       "      <td>San Diego</td>\n",
       "      <td>Chula Vista</td>\n",
       "      <td>20-10-2007</td>\n",
       "      <td>Parts per billion</td>\n",
       "      <td>16.652174</td>\n",
       "      <td>...</td>\n",
       "      <td>Parts per billion</td>\n",
       "      <td>3.086957</td>\n",
       "      <td>4.0</td>\n",
       "      <td>7</td>\n",
       "      <td>6.0</td>\n",
       "      <td>Parts per million</td>\n",
       "      <td>0.739130</td>\n",
       "      <td>1.4</td>\n",
       "      <td>7</td>\n",
       "      <td>NaN</td>\n",
       "    </tr>\n",
       "    <tr>\n",
       "      <th>...</th>\n",
       "      <td>...</td>\n",
       "      <td>...</td>\n",
       "      <td>...</td>\n",
       "      <td>...</td>\n",
       "      <td>...</td>\n",
       "      <td>...</td>\n",
       "      <td>...</td>\n",
       "      <td>...</td>\n",
       "      <td>...</td>\n",
       "      <td>...</td>\n",
       "      <td>...</td>\n",
       "      <td>...</td>\n",
       "      <td>...</td>\n",
       "      <td>...</td>\n",
       "      <td>...</td>\n",
       "      <td>...</td>\n",
       "      <td>...</td>\n",
       "      <td>...</td>\n",
       "      <td>...</td>\n",
       "      <td>...</td>\n",
       "      <td>...</td>\n",
       "    </tr>\n",
       "    <tr>\n",
       "      <th>484606</th>\n",
       "      <td>8</td>\n",
       "      <td>1</td>\n",
       "      <td>3001</td>\n",
       "      <td>3174 E. 78TH AVE.</td>\n",
       "      <td>Colorado</td>\n",
       "      <td>Adams</td>\n",
       "      <td>Welby</td>\n",
       "      <td>13-04-2010</td>\n",
       "      <td>Parts per billion</td>\n",
       "      <td>4.869565</td>\n",
       "      <td>...</td>\n",
       "      <td>Parts per billion</td>\n",
       "      <td>0.285714</td>\n",
       "      <td>2.0</td>\n",
       "      <td>8</td>\n",
       "      <td>NaN</td>\n",
       "      <td>Parts per million</td>\n",
       "      <td>0.179167</td>\n",
       "      <td>0.3</td>\n",
       "      <td>7</td>\n",
       "      <td>3.0</td>\n",
       "    </tr>\n",
       "    <tr>\n",
       "      <th>484615</th>\n",
       "      <td>8</td>\n",
       "      <td>1</td>\n",
       "      <td>3001</td>\n",
       "      <td>3174 E. 78TH AVE.</td>\n",
       "      <td>Colorado</td>\n",
       "      <td>Adams</td>\n",
       "      <td>Welby</td>\n",
       "      <td>14-04-2010</td>\n",
       "      <td>Parts per billion</td>\n",
       "      <td>10.043478</td>\n",
       "      <td>...</td>\n",
       "      <td>Parts per billion</td>\n",
       "      <td>0.217391</td>\n",
       "      <td>2.0</td>\n",
       "      <td>6</td>\n",
       "      <td>3.0</td>\n",
       "      <td>Parts per million</td>\n",
       "      <td>0.175000</td>\n",
       "      <td>0.5</td>\n",
       "      <td>6</td>\n",
       "      <td>NaN</td>\n",
       "    </tr>\n",
       "    <tr>\n",
       "      <th>484616</th>\n",
       "      <td>8</td>\n",
       "      <td>1</td>\n",
       "      <td>3001</td>\n",
       "      <td>3174 E. 78TH AVE.</td>\n",
       "      <td>Colorado</td>\n",
       "      <td>Adams</td>\n",
       "      <td>Welby</td>\n",
       "      <td>14-04-2010</td>\n",
       "      <td>Parts per billion</td>\n",
       "      <td>10.043478</td>\n",
       "      <td>...</td>\n",
       "      <td>Parts per billion</td>\n",
       "      <td>0.217391</td>\n",
       "      <td>2.0</td>\n",
       "      <td>6</td>\n",
       "      <td>3.0</td>\n",
       "      <td>Parts per million</td>\n",
       "      <td>0.179167</td>\n",
       "      <td>0.3</td>\n",
       "      <td>6</td>\n",
       "      <td>3.0</td>\n",
       "    </tr>\n",
       "    <tr>\n",
       "      <th>484617</th>\n",
       "      <td>8</td>\n",
       "      <td>1</td>\n",
       "      <td>3001</td>\n",
       "      <td>3174 E. 78TH AVE.</td>\n",
       "      <td>Colorado</td>\n",
       "      <td>Adams</td>\n",
       "      <td>Welby</td>\n",
       "      <td>14-04-2010</td>\n",
       "      <td>Parts per billion</td>\n",
       "      <td>10.043478</td>\n",
       "      <td>...</td>\n",
       "      <td>Parts per billion</td>\n",
       "      <td>0.228571</td>\n",
       "      <td>1.3</td>\n",
       "      <td>8</td>\n",
       "      <td>NaN</td>\n",
       "      <td>Parts per million</td>\n",
       "      <td>0.175000</td>\n",
       "      <td>0.5</td>\n",
       "      <td>6</td>\n",
       "      <td>NaN</td>\n",
       "    </tr>\n",
       "    <tr>\n",
       "      <th>484618</th>\n",
       "      <td>8</td>\n",
       "      <td>1</td>\n",
       "      <td>3001</td>\n",
       "      <td>3174 E. 78TH AVE.</td>\n",
       "      <td>Colorado</td>\n",
       "      <td>Adams</td>\n",
       "      <td>Welby</td>\n",
       "      <td>14-04-2010</td>\n",
       "      <td>Parts per billion</td>\n",
       "      <td>10.043478</td>\n",
       "      <td>...</td>\n",
       "      <td>Parts per billion</td>\n",
       "      <td>0.228571</td>\n",
       "      <td>1.3</td>\n",
       "      <td>8</td>\n",
       "      <td>NaN</td>\n",
       "      <td>Parts per million</td>\n",
       "      <td>0.179167</td>\n",
       "      <td>0.3</td>\n",
       "      <td>6</td>\n",
       "      <td>3.0</td>\n",
       "    </tr>\n",
       "  </tbody>\n",
       "</table>\n",
       "<p>1645 rows × 28 columns</p>\n",
       "</div>"
      ],
      "text/plain": [
       "        State Code  County Code  Site Num                     Address  \\\n",
       "65744           37          119        41          1130 EASTWAY DRIVE   \n",
       "65748           37          119        41          1130 EASTWAY DRIVE   \n",
       "65848           37          119        41          1130 EASTWAY DRIVE   \n",
       "65852           37          119        41          1130 EASTWAY DRIVE   \n",
       "130194           6           73         1  80 E. 'J' ST., CHULA VISTA   \n",
       "...            ...          ...       ...                         ...   \n",
       "484606           8            1      3001           3174 E. 78TH AVE.   \n",
       "484615           8            1      3001           3174 E. 78TH AVE.   \n",
       "484616           8            1      3001           3174 E. 78TH AVE.   \n",
       "484617           8            1      3001           3174 E. 78TH AVE.   \n",
       "484618           8            1      3001           3174 E. 78TH AVE.   \n",
       "\n",
       "                 State       County         City  Date Local  \\\n",
       "65744   North Carolina  Mecklenburg    Charlotte  04-04-2006   \n",
       "65748   North Carolina  Mecklenburg    Charlotte  04-04-2006   \n",
       "65848   North Carolina  Mecklenburg    Charlotte  17-04-2006   \n",
       "65852   North Carolina  Mecklenburg    Charlotte  17-04-2006   \n",
       "130194      California    San Diego  Chula Vista  20-10-2007   \n",
       "...                ...          ...          ...         ...   \n",
       "484606        Colorado        Adams        Welby  13-04-2010   \n",
       "484615        Colorado        Adams        Welby  14-04-2010   \n",
       "484616        Colorado        Adams        Welby  14-04-2010   \n",
       "484617        Colorado        Adams        Welby  14-04-2010   \n",
       "484618        Colorado        Adams        Welby  14-04-2010   \n",
       "\n",
       "                NO2 Units   NO2 Mean  ...          SO2 Units  SO2 Mean  \\\n",
       "65744   Parts per billion  14.391304  ...  Parts per billion  2.950000   \n",
       "65748   Parts per billion  14.391304  ...  Parts per billion  2.700000   \n",
       "65848   Parts per billion   9.333333  ...  Parts per billion  5.383333   \n",
       "65852   Parts per billion   9.333333  ...  Parts per billion  5.350000   \n",
       "130194  Parts per billion  16.652174  ...  Parts per billion  3.086957   \n",
       "...                   ...        ...  ...                ...       ...   \n",
       "484606  Parts per billion   4.869565  ...  Parts per billion  0.285714   \n",
       "484615  Parts per billion  10.043478  ...  Parts per billion  0.217391   \n",
       "484616  Parts per billion  10.043478  ...  Parts per billion  0.217391   \n",
       "484617  Parts per billion  10.043478  ...  Parts per billion  0.228571   \n",
       "484618  Parts per billion  10.043478  ...  Parts per billion  0.228571   \n",
       "\n",
       "        SO2 1st Max Value SO2 1st Max Hour  SO2 AQI           CO Units  \\\n",
       "65744                10.5               22     14.0  Parts per million   \n",
       "65748                 7.7               23      NaN  Parts per million   \n",
       "65848                25.5                5     36.0  Parts per million   \n",
       "65852                15.9                5      NaN  Parts per million   \n",
       "130194                4.0                7      6.0  Parts per million   \n",
       "...                   ...              ...      ...                ...   \n",
       "484606                2.0                8      NaN  Parts per million   \n",
       "484615                2.0                6      3.0  Parts per million   \n",
       "484616                2.0                6      3.0  Parts per million   \n",
       "484617                1.3                8      NaN  Parts per million   \n",
       "484618                1.3                8      NaN  Parts per million   \n",
       "\n",
       "         CO Mean  CO 1st Max Value CO 1st Max Hour  CO AQI  \n",
       "65744   0.241667               0.3               7     3.0  \n",
       "65748   0.241667               0.3               7     3.0  \n",
       "65848   0.229167               0.3               7     3.0  \n",
       "65852   0.229167               0.3               7     3.0  \n",
       "130194  0.739130               1.4               7     NaN  \n",
       "...          ...               ...             ...     ...  \n",
       "484606  0.179167               0.3               7     3.0  \n",
       "484615  0.175000               0.5               6     NaN  \n",
       "484616  0.179167               0.3               6     3.0  \n",
       "484617  0.175000               0.5               6     NaN  \n",
       "484618  0.179167               0.3               6     3.0  \n",
       "\n",
       "[1645 rows x 28 columns]"
      ]
     },
     "execution_count": 6,
     "metadata": {},
     "output_type": "execute_result"
    }
   ],
   "source": [
    "#check for duplicate\n",
    "duplicate=df[df.duplicated()]\n",
    "duplicate"
   ]
  },
  {
   "cell_type": "code",
   "execution_count": 7,
   "id": "f6f65984",
   "metadata": {},
   "outputs": [],
   "source": [
    "df=df.drop_duplicates(keep=False)"
   ]
  },
  {
   "cell_type": "code",
   "execution_count": 8,
   "id": "d0e44a07",
   "metadata": {},
   "outputs": [
    {
     "data": {
      "text/plain": [
       "np.int64(0)"
      ]
     },
     "execution_count": 8,
     "metadata": {},
     "output_type": "execute_result"
    }
   ],
   "source": [
    "df.duplicated().sum()"
   ]
  },
  {
   "cell_type": "code",
   "execution_count": 9,
   "id": "9202359f",
   "metadata": {},
   "outputs": [
    {
     "data": {
      "text/plain": [
       "State Code                0\n",
       "County Code               0\n",
       "Site Num                  0\n",
       "Address                   0\n",
       "State                     0\n",
       "County                    0\n",
       "City                      0\n",
       "Date Local                0\n",
       "NO2 Units                 0\n",
       "NO2 Mean                  0\n",
       "NO2 1st Max Value         0\n",
       "NO2 1st Max Hour          0\n",
       "NO2 AQI                   0\n",
       "O3 Units                  0\n",
       "O3 Mean                   0\n",
       "O3 1st Max Value          0\n",
       "O3 1st Max Hour           0\n",
       "O3 AQI                    0\n",
       "SO2 Units                 0\n",
       "SO2 Mean                  0\n",
       "SO2 1st Max Value         0\n",
       "SO2 1st Max Hour          0\n",
       "SO2 AQI              258282\n",
       "CO Units                  0\n",
       "CO Mean                   0\n",
       "CO 1st Max Value          0\n",
       "CO 1st Max Hour           0\n",
       "CO AQI               258446\n",
       "dtype: int64"
      ]
     },
     "execution_count": 9,
     "metadata": {},
     "output_type": "execute_result"
    }
   ],
   "source": [
    "#check for missing Values \n",
    "df.isnull().sum()"
   ]
  },
  {
   "cell_type": "markdown",
   "id": "487ded30",
   "metadata": {},
   "source": [
    "There are missing values in Column SO2 AQI , CO AQI"
   ]
  },
  {
   "cell_type": "code",
   "execution_count": 10,
   "id": "6b1ead61",
   "metadata": {},
   "outputs": [
    {
     "name": "stdout",
     "output_type": "stream",
     "text": [
      "0         3.0\n",
      "1         3.0\n",
      "2         NaN\n",
      "3         NaN\n",
      "4         9.0\n",
      "         ... \n",
      "520104    3.0\n",
      "520105    3.0\n",
      "520106    NaN\n",
      "520107    NaN\n",
      "520108    1.0\n",
      "Name: SO2 AQI, Length: 516819, dtype: float64\n"
     ]
    }
   ],
   "source": [
    "col_data=df['SO2 AQI']\n",
    "print(col_data)"
   ]
  },
  {
   "cell_type": "code",
   "execution_count": 11,
   "id": "e26f4de6",
   "metadata": {},
   "outputs": [
    {
     "data": {
      "text/plain": [
       "0          NaN\n",
       "1         19.0\n",
       "2          NaN\n",
       "3         19.0\n",
       "4          NaN\n",
       "          ... \n",
       "520104     NaN\n",
       "520105     7.0\n",
       "520106     NaN\n",
       "520107     7.0\n",
       "520108     NaN\n",
       "Name: CO AQI, Length: 516819, dtype: float64"
      ]
     },
     "execution_count": 11,
     "metadata": {},
     "output_type": "execute_result"
    }
   ],
   "source": [
    "df['CO AQI']"
   ]
  },
  {
   "cell_type": "code",
   "execution_count": 12,
   "id": "ad34b898",
   "metadata": {},
   "outputs": [],
   "source": [
    "#Replacing null values with zero\n",
    "\n",
    "df.replace(to_replace=np.nan,value='0',inplace=True)"
   ]
  },
  {
   "cell_type": "code",
   "execution_count": 13,
   "id": "97d9b8c3",
   "metadata": {},
   "outputs": [
    {
     "data": {
      "text/plain": [
       "State Code           0\n",
       "County Code          0\n",
       "Site Num             0\n",
       "Address              0\n",
       "State                0\n",
       "County               0\n",
       "City                 0\n",
       "Date Local           0\n",
       "NO2 Units            0\n",
       "NO2 Mean             0\n",
       "NO2 1st Max Value    0\n",
       "NO2 1st Max Hour     0\n",
       "NO2 AQI              0\n",
       "O3 Units             0\n",
       "O3 Mean              0\n",
       "O3 1st Max Value     0\n",
       "O3 1st Max Hour      0\n",
       "O3 AQI               0\n",
       "SO2 Units            0\n",
       "SO2 Mean             0\n",
       "SO2 1st Max Value    0\n",
       "SO2 1st Max Hour     0\n",
       "SO2 AQI              0\n",
       "CO Units             0\n",
       "CO Mean              0\n",
       "CO 1st Max Value     0\n",
       "CO 1st Max Hour      0\n",
       "CO AQI               0\n",
       "dtype: int64"
      ]
     },
     "execution_count": 13,
     "metadata": {},
     "output_type": "execute_result"
    }
   ],
   "source": [
    "df.isnull().sum()"
   ]
  },
  {
   "cell_type": "markdown",
   "id": "e8d24dc2",
   "metadata": {},
   "source": [
    "There is no missing Values "
   ]
  },
  {
   "cell_type": "code",
   "execution_count": 14,
   "id": "1cf93e01",
   "metadata": {},
   "outputs": [
    {
     "data": {
      "text/plain": [
       "np.int64(0)"
      ]
     },
     "execution_count": 14,
     "metadata": {},
     "output_type": "execute_result"
    }
   ],
   "source": [
    "#check for duplicate\n",
    "df.duplicated().sum()"
   ]
  },
  {
   "cell_type": "markdown",
   "id": "6aa41059",
   "metadata": {},
   "source": [
    "**There is no duplicates**"
   ]
  },
  {
   "cell_type": "code",
   "execution_count": 15,
   "id": "7893e452",
   "metadata": {},
   "outputs": [
    {
     "data": {
      "text/plain": [
       "(516819, 28)"
      ]
     },
     "execution_count": 15,
     "metadata": {},
     "output_type": "execute_result"
    }
   ],
   "source": [
    "df.shape"
   ]
  },
  {
   "cell_type": "code",
   "execution_count": 16,
   "id": "73776f29",
   "metadata": {},
   "outputs": [],
   "source": [
    "numeric_cols = [\n",
    "    'NO2 Mean', 'NO2 1st Max Value', 'NO2 1st Max Hour', 'NO2 AQI',\n",
    "    'O3 Mean', 'O3 1st Max Value', 'O3 1st Max Hour', 'O3 AQI',\n",
    "    'SO2 Mean', 'SO2 1st Max Value', 'SO2 1st Max Hour', 'SO2 AQI',\n",
    "    'CO Mean', 'CO 1st Max Value', 'CO 1st Max Hour', 'CO AQI']\n",
    "\n",
    "for col in numeric_cols:\n",
    "    df[col] = pd.to_numeric(df[col], errors='coerce')"
   ]
  },
  {
   "cell_type": "code",
   "execution_count": 17,
   "id": "d4e1f297",
   "metadata": {},
   "outputs": [
    {
     "data": {
      "text/html": [
       "<div>\n",
       "<style scoped>\n",
       "    .dataframe tbody tr th:only-of-type {\n",
       "        vertical-align: middle;\n",
       "    }\n",
       "\n",
       "    .dataframe tbody tr th {\n",
       "        vertical-align: top;\n",
       "    }\n",
       "\n",
       "    .dataframe thead th {\n",
       "        text-align: right;\n",
       "    }\n",
       "</style>\n",
       "<table border=\"1\" class=\"dataframe\">\n",
       "  <thead>\n",
       "    <tr style=\"text-align: right;\">\n",
       "      <th></th>\n",
       "      <th>State Code</th>\n",
       "      <th>County Code</th>\n",
       "      <th>Site Num</th>\n",
       "      <th>Address</th>\n",
       "      <th>State</th>\n",
       "      <th>County</th>\n",
       "      <th>City</th>\n",
       "      <th>Date Local</th>\n",
       "      <th>NO2 Units</th>\n",
       "      <th>NO2 Mean</th>\n",
       "      <th>...</th>\n",
       "      <th>SO2 Units</th>\n",
       "      <th>SO2 Mean</th>\n",
       "      <th>SO2 1st Max Value</th>\n",
       "      <th>SO2 1st Max Hour</th>\n",
       "      <th>SO2 AQI</th>\n",
       "      <th>CO Units</th>\n",
       "      <th>CO Mean</th>\n",
       "      <th>CO 1st Max Value</th>\n",
       "      <th>CO 1st Max Hour</th>\n",
       "      <th>CO AQI</th>\n",
       "    </tr>\n",
       "  </thead>\n",
       "  <tbody>\n",
       "    <tr>\n",
       "      <th>0</th>\n",
       "      <td>4</td>\n",
       "      <td>13</td>\n",
       "      <td>3002</td>\n",
       "      <td>1645 E ROOSEVELT ST-CENTRAL PHOENIX STN</td>\n",
       "      <td>Arizona</td>\n",
       "      <td>Maricopa</td>\n",
       "      <td>Phoenix</td>\n",
       "      <td>01-01-2006</td>\n",
       "      <td>Parts per billion</td>\n",
       "      <td>32.708333</td>\n",
       "      <td>...</td>\n",
       "      <td>Parts per billion</td>\n",
       "      <td>0.8750</td>\n",
       "      <td>2.0</td>\n",
       "      <td>0</td>\n",
       "      <td>3.0</td>\n",
       "      <td>Parts per million</td>\n",
       "      <td>1.054167</td>\n",
       "      <td>2.2</td>\n",
       "      <td>2</td>\n",
       "      <td>0.0</td>\n",
       "    </tr>\n",
       "    <tr>\n",
       "      <th>1</th>\n",
       "      <td>4</td>\n",
       "      <td>13</td>\n",
       "      <td>3002</td>\n",
       "      <td>1645 E ROOSEVELT ST-CENTRAL PHOENIX STN</td>\n",
       "      <td>Arizona</td>\n",
       "      <td>Maricopa</td>\n",
       "      <td>Phoenix</td>\n",
       "      <td>01-01-2006</td>\n",
       "      <td>Parts per billion</td>\n",
       "      <td>32.708333</td>\n",
       "      <td>...</td>\n",
       "      <td>Parts per billion</td>\n",
       "      <td>0.8750</td>\n",
       "      <td>2.0</td>\n",
       "      <td>0</td>\n",
       "      <td>3.0</td>\n",
       "      <td>Parts per million</td>\n",
       "      <td>0.910526</td>\n",
       "      <td>1.7</td>\n",
       "      <td>5</td>\n",
       "      <td>19.0</td>\n",
       "    </tr>\n",
       "    <tr>\n",
       "      <th>2</th>\n",
       "      <td>4</td>\n",
       "      <td>13</td>\n",
       "      <td>3002</td>\n",
       "      <td>1645 E ROOSEVELT ST-CENTRAL PHOENIX STN</td>\n",
       "      <td>Arizona</td>\n",
       "      <td>Maricopa</td>\n",
       "      <td>Phoenix</td>\n",
       "      <td>01-01-2006</td>\n",
       "      <td>Parts per billion</td>\n",
       "      <td>32.708333</td>\n",
       "      <td>...</td>\n",
       "      <td>Parts per billion</td>\n",
       "      <td>0.8625</td>\n",
       "      <td>2.0</td>\n",
       "      <td>2</td>\n",
       "      <td>0.0</td>\n",
       "      <td>Parts per million</td>\n",
       "      <td>1.054167</td>\n",
       "      <td>2.2</td>\n",
       "      <td>2</td>\n",
       "      <td>0.0</td>\n",
       "    </tr>\n",
       "    <tr>\n",
       "      <th>3</th>\n",
       "      <td>4</td>\n",
       "      <td>13</td>\n",
       "      <td>3002</td>\n",
       "      <td>1645 E ROOSEVELT ST-CENTRAL PHOENIX STN</td>\n",
       "      <td>Arizona</td>\n",
       "      <td>Maricopa</td>\n",
       "      <td>Phoenix</td>\n",
       "      <td>01-01-2006</td>\n",
       "      <td>Parts per billion</td>\n",
       "      <td>32.708333</td>\n",
       "      <td>...</td>\n",
       "      <td>Parts per billion</td>\n",
       "      <td>0.8625</td>\n",
       "      <td>2.0</td>\n",
       "      <td>2</td>\n",
       "      <td>0.0</td>\n",
       "      <td>Parts per million</td>\n",
       "      <td>0.910526</td>\n",
       "      <td>1.7</td>\n",
       "      <td>5</td>\n",
       "      <td>19.0</td>\n",
       "    </tr>\n",
       "    <tr>\n",
       "      <th>4</th>\n",
       "      <td>4</td>\n",
       "      <td>13</td>\n",
       "      <td>3002</td>\n",
       "      <td>1645 E ROOSEVELT ST-CENTRAL PHOENIX STN</td>\n",
       "      <td>Arizona</td>\n",
       "      <td>Maricopa</td>\n",
       "      <td>Phoenix</td>\n",
       "      <td>02-01-2006</td>\n",
       "      <td>Parts per billion</td>\n",
       "      <td>28.166667</td>\n",
       "      <td>...</td>\n",
       "      <td>Parts per billion</td>\n",
       "      <td>1.1250</td>\n",
       "      <td>6.0</td>\n",
       "      <td>10</td>\n",
       "      <td>9.0</td>\n",
       "      <td>Parts per million</td>\n",
       "      <td>0.445833</td>\n",
       "      <td>2.1</td>\n",
       "      <td>0</td>\n",
       "      <td>0.0</td>\n",
       "    </tr>\n",
       "  </tbody>\n",
       "</table>\n",
       "<p>5 rows × 28 columns</p>\n",
       "</div>"
      ],
      "text/plain": [
       "   State Code  County Code  Site Num                                  Address  \\\n",
       "0           4           13      3002  1645 E ROOSEVELT ST-CENTRAL PHOENIX STN   \n",
       "1           4           13      3002  1645 E ROOSEVELT ST-CENTRAL PHOENIX STN   \n",
       "2           4           13      3002  1645 E ROOSEVELT ST-CENTRAL PHOENIX STN   \n",
       "3           4           13      3002  1645 E ROOSEVELT ST-CENTRAL PHOENIX STN   \n",
       "4           4           13      3002  1645 E ROOSEVELT ST-CENTRAL PHOENIX STN   \n",
       "\n",
       "     State    County     City  Date Local          NO2 Units   NO2 Mean  ...  \\\n",
       "0  Arizona  Maricopa  Phoenix  01-01-2006  Parts per billion  32.708333  ...   \n",
       "1  Arizona  Maricopa  Phoenix  01-01-2006  Parts per billion  32.708333  ...   \n",
       "2  Arizona  Maricopa  Phoenix  01-01-2006  Parts per billion  32.708333  ...   \n",
       "3  Arizona  Maricopa  Phoenix  01-01-2006  Parts per billion  32.708333  ...   \n",
       "4  Arizona  Maricopa  Phoenix  02-01-2006  Parts per billion  28.166667  ...   \n",
       "\n",
       "           SO2 Units  SO2 Mean  SO2 1st Max Value SO2 1st Max Hour  SO2 AQI  \\\n",
       "0  Parts per billion    0.8750                2.0                0      3.0   \n",
       "1  Parts per billion    0.8750                2.0                0      3.0   \n",
       "2  Parts per billion    0.8625                2.0                2      0.0   \n",
       "3  Parts per billion    0.8625                2.0                2      0.0   \n",
       "4  Parts per billion    1.1250                6.0               10      9.0   \n",
       "\n",
       "            CO Units   CO Mean  CO 1st Max Value CO 1st Max Hour  CO AQI  \n",
       "0  Parts per million  1.054167               2.2               2     0.0  \n",
       "1  Parts per million  0.910526               1.7               5    19.0  \n",
       "2  Parts per million  1.054167               2.2               2     0.0  \n",
       "3  Parts per million  0.910526               1.7               5    19.0  \n",
       "4  Parts per million  0.445833               2.1               0     0.0  \n",
       "\n",
       "[5 rows x 28 columns]"
      ]
     },
     "execution_count": 17,
     "metadata": {},
     "output_type": "execute_result"
    }
   ],
   "source": [
    "df.head(5)"
   ]
  },
  {
   "cell_type": "code",
   "execution_count": 18,
   "id": "713ea4e7",
   "metadata": {},
   "outputs": [
    {
     "data": {
      "text/plain": [
       "State Code             int64\n",
       "County Code            int64\n",
       "Site Num               int64\n",
       "Address               object\n",
       "State                 object\n",
       "County                object\n",
       "City                  object\n",
       "Date Local            object\n",
       "NO2 Units             object\n",
       "NO2 Mean             float64\n",
       "NO2 1st Max Value    float64\n",
       "NO2 1st Max Hour       int64\n",
       "NO2 AQI                int64\n",
       "O3 Units              object\n",
       "O3 Mean              float64\n",
       "O3 1st Max Value     float64\n",
       "O3 1st Max Hour        int64\n",
       "O3 AQI                 int64\n",
       "SO2 Units             object\n",
       "SO2 Mean             float64\n",
       "SO2 1st Max Value    float64\n",
       "SO2 1st Max Hour       int64\n",
       "SO2 AQI              float64\n",
       "CO Units              object\n",
       "CO Mean              float64\n",
       "CO 1st Max Value     float64\n",
       "CO 1st Max Hour        int64\n",
       "CO AQI               float64\n",
       "dtype: object"
      ]
     },
     "execution_count": 18,
     "metadata": {},
     "output_type": "execute_result"
    }
   ],
   "source": [
    "df.dtypes"
   ]
  },
  {
   "cell_type": "markdown",
   "id": "1a21221e",
   "metadata": {},
   "source": [
    "Detecting outliers\n"
   ]
  },
  {
   "cell_type": "code",
   "execution_count": 19,
   "id": "4984ee24",
   "metadata": {},
   "outputs": [
    {
     "data": {
      "image/png": "[encoded data removed]",
      "text/plain": [
       "<Figure size 700x400 with 1 Axes>"
      ]
     },
     "metadata": {},
     "output_type": "display_data"
    }
   ],
   "source": [
    "# Box Plot\n",
    "import matplotlib.pyplot as plt\n",
    "plt.figure(figsize=(7,4))\n",
    "plt.boxplot(df['CO Mean'])\n",
    "plt.show()"
   ]
  },
  {
   "cell_type": "code",
   "execution_count": 20,
   "id": "e180ccbe",
   "metadata": {},
   "outputs": [
    {
     "data": {
      "image/png": "[encoded data removed]",
      "text/plain": [
       "<Figure size 700x400 with 1 Axes>"
      ]
     },
     "metadata": {},
     "output_type": "display_data"
    }
   ],
   "source": [
    "# Box Plot\n",
    "import matplotlib.pyplot as plt\n",
    "plt.figure(figsize=(7,4))\n",
    "plt.boxplot(df['O3 Mean'])\n",
    "plt.show()"
   ]
  },
  {
   "cell_type": "code",
   "execution_count": 21,
   "id": "09a9bc46",
   "metadata": {},
   "outputs": [
    {
     "data": {
      "image/png": "[encoded data removed]",
      "text/plain": [
       "<Figure size 700x400 with 1 Axes>"
      ]
     },
     "metadata": {},
     "output_type": "display_data"
    }
   ],
   "source": [
    "# Box Plot\n",
    "import matplotlib.pyplot as plt\n",
    "plt.figure(figsize=(7,4))\n",
    "plt.boxplot(df['NO2 Mean'])\n",
    "plt.show()"
   ]
  },
  {
   "cell_type": "code",
   "execution_count": 22,
   "id": "8579137b",
   "metadata": {},
   "outputs": [
    {
     "data": {
      "image/png": "[encoded data removed]",
      "text/plain": [
       "<Figure size 700x400 with 1 Axes>"
      ]
     },
     "metadata": {},
     "output_type": "display_data"
    }
   ],
   "source": [
    "# Box Plot\n",
    "import matplotlib.pyplot as plt\n",
    "plt.figure(figsize=(7,4))\n",
    "plt.boxplot(df['SO2 Mean'])\n",
    "plt.show()"
   ]
  },
  {
   "cell_type": "markdown",
   "id": "aa37bb3f",
   "metadata": {},
   "source": [
    "# There are 12 features in the DataSet \n",
    "\n",
    "\n"
   ]
  },
  {
   "cell_type": "markdown",
   "id": "64d2b3f2",
   "metadata": {},
   "source": [
    "State names:  Lists of state names in US\n",
    "\n",
    "State code: Code numbers belongs to each state\n",
    "\n",
    "County code: Unique code numbers specified for county\n",
    "\n",
    "Site number: numbers given to the sites\n",
    "\n",
    "Address: The Address of each locality where pollutant has been detected\n",
    "\n",
    "Country names: List of county names\n",
    "\n",
    "City names: Names of city \n",
    "\n",
    "Date local: Day Month and the year of every local area when pollutant took place and the hierarchy\n",
    "\n",
    "NO2 units: Units represented by Parts Per Billion, NO2 mean, NO2 1st MAX value, NO2 1st MAX hour, NO2 AQI\n",
    "\n",
    "O3 units: Units represented by parts per million, O3 mean, O3 1st MAX value, O3 1st MAX hour, O3 AQI\n",
    "\n",
    "SO2 units: Units represented by Parts Per Billion, SO2 mean, SO2 1st MAX value, SO2 1st MAX hour, SO2 AQI\n",
    "\n",
    "CO units: Units represented by parts per million, CO2 mean, CO2 1st MAX value, CO2 1st MAX hour, CO2 AQI"
   ]
  },
  {
   "cell_type": "markdown",
   "id": "0437a098",
   "metadata": {},
   "source": [
    "**Now, lets Visaulize the Data and Find some amazing inside**"
   ]
  },
  {
   "cell_type": "code",
   "execution_count": 83,
   "id": "0dae45d5",
   "metadata": {},
   "outputs": [
    {
     "name": "stdout",
     "output_type": "stream",
     "text": [
      "Top 10 Highest state of CO Pollutants :\n",
      "State\n",
      "Country Of Mexico       9.188815\n",
      "District Of Columbia    7.076041\n",
      "Colorado                4.280659\n",
      "Arizona                 4.250470\n",
      "Georgia                 3.396739\n",
      "Arkansas                3.355925\n",
      "Missouri                3.303599\n",
      "California              3.235519\n",
      "Kansas                  3.166492\n",
      "Nevada                  3.150000\n",
      "Name: CO AQI, dtype: float64\n"
     ]
    }
   ],
   "source": [
    "#Top 10 Highest state of CO Pollutants\n",
    "top_10=df.groupby('State')['CO AQI'].mean().sort_values(ascending=False).head(10)\n",
    "print('Top 10 Highest state of CO Pollutants :')\n",
    "print(top_10)\n"
   ]
  },
  {
   "cell_type": "markdown",
   "id": "da41e0c6",
   "metadata": {},
   "source": [
    "***The District of Columbia ,Country of Mexico,Colorado,Arkansas,Arizona,Georgia,Kansas,Nevada,California,Georgia,Missouri are top 10 highest states of CO Pollutants**                 "
   ]
  },
  {
   "cell_type": "code",
   "execution_count": 84,
   "id": "b045f15c",
   "metadata": {},
   "outputs": [
    {
     "name": "stdout",
     "output_type": "stream",
     "text": [
      "Top 10 Highest City of CO Pollutants :\n",
      "City\n",
      "Mexicali      11.257726\n",
      "Tijuana        9.460539\n",
      "Calexico       7.133277\n",
      "Washington     7.076041\n",
      "San Diego      5.589106\n",
      "Denver         5.344913\n",
      "Phoenix        5.209843\n",
      "Kenner         4.944444\n",
      "Burbank        4.796969\n",
      "Rosarito       4.504878\n",
      "Name: CO AQI, dtype: float64\n"
     ]
    }
   ],
   "source": [
    "top_10_city=df.groupby('City')['CO AQI'].mean().sort_values(ascending=False).head(10)\n",
    "print('Top 10 Highest City of CO Pollutants :')\n",
    "print(top_10_city)"
   ]
  },
  {
   "cell_type": "markdown",
   "id": "74dcac0e",
   "metadata": {},
   "source": [
    "**Mexicalli,Tijuana,Calexico,Washington,San Diego,Denver,Phoenix,Kenner,Burbank,Rosarito are the highest city of CO Pollutant.**"
   ]
  },
  {
   "cell_type": "code",
   "execution_count": 24,
   "id": "fee4e3b3",
   "metadata": {},
   "outputs": [
    {
     "name": "stdout",
     "output_type": "stream",
     "text": [
      "First Maximum Hours for CO\n",
      "23\n"
     ]
    }
   ],
   "source": [
    "# First maximum hours for CO \n",
    "if \"CO 1st Max Hour\" in df.columns:\n",
    "    first_max=df['CO 1st Max Hour'].max()\n",
    "    print('First Maximum Hours for CO')\n",
    "    print(first_max)\n",
    "else:\n",
    "    print('Column Not found')"
   ]
  },
  {
   "cell_type": "markdown",
   "id": "cbd2a2f6",
   "metadata": {},
   "source": [
    "**The First Maximum hour for CO is 2**"
   ]
  },
  {
   "cell_type": "code",
   "execution_count": 25,
   "id": "a9f63345",
   "metadata": {},
   "outputs": [
    {
     "name": "stdout",
     "output_type": "stream",
     "text": [
      "First Maximum Value for CO\n",
      "16.5\n"
     ]
    }
   ],
   "source": [
    "#First Maximum value for CO\n",
    "if \"CO 1st Max Value\" in df.columns:\n",
    "    first_max=df['CO 1st Max Value'].max()\n",
    "    print('First Maximum Value for CO')\n",
    "    print(first_max)\n",
    "else:\n",
    "    print('Column Not found')"
   ]
  },
  {
   "cell_type": "markdown",
   "id": "b53b8866",
   "metadata": {},
   "source": [
    "**The First Maximum Value for CO is 16.5**"
   ]
  },
  {
   "cell_type": "code",
   "execution_count": 26,
   "id": "e1958aee",
   "metadata": {},
   "outputs": [
    {
     "name": "stdout",
     "output_type": "stream",
     "text": [
      "CO Units Used\n",
      "Parts per million\n"
     ]
    }
   ],
   "source": [
    "#The Unit of CO Used \n",
    "if \"CO Units\" in df.columns:\n",
    "    CO_units=df['CO Units'].iloc[0]\n",
    "    print('CO Units Used')\n",
    "    print(CO_units)\n",
    "else:\n",
    "    print('Column Not found')"
   ]
  },
  {
   "cell_type": "markdown",
   "id": "a1fb150c",
   "metadata": {},
   "source": [
    "**The CO Units used is Parts per million(PPM)**"
   ]
  },
  {
   "cell_type": "markdown",
   "id": "532c149c",
   "metadata": {},
   "source": [
    "CO is measured in \"Parts per million\" (PPM) throughout the dataset"
   ]
  },
  {
   "cell_type": "code",
   "execution_count": 27,
   "id": "f50241b6",
   "metadata": {},
   "outputs": [],
   "source": [
    "#Mean CO AQI Per State \n",
    "\n",
    "df['CO AQI'] = pd.to_numeric(df['CO AQI'], errors='coerce')\n",
    "\n",
    "CO_mean=df.groupby('State')['CO AQI'].mean().reset_index()\n",
    "CO_mean.columns=['State','CO AQI Mean']\n"
   ]
  },
  {
   "cell_type": "code",
   "execution_count": 28,
   "id": "dbf95ae3",
   "metadata": {},
   "outputs": [],
   "source": [
    "#Find Min and max for the colourig \n",
    "min_aqi=CO_mean['CO AQI Mean'].min()\n",
    "max_aqi=CO_mean['CO AQI Mean'].max()"
   ]
  },
  {
   "cell_type": "code",
   "execution_count": 29,
   "id": "6f63835f",
   "metadata": {},
   "outputs": [],
   "source": [
    "def color_aqi(val):\n",
    "    if val == max_aqi:\n",
    "        return 'background-color: red; color: white;'\n",
    "    elif val == min_aqi:\n",
    "        return 'background-color: green; color: white;'\n",
    "    else:\n",
    "        return ''"
   ]
  },
  {
   "cell_type": "code",
   "execution_count": 30,
   "id": "b713d549",
   "metadata": {},
   "outputs": [
    {
     "name": "stderr",
     "output_type": "stream",
     "text": [
      "C:\\Users\\LENOVO\\AppData\\Local\\Temp\\ipykernel_16480\\1844778665.py:1: FutureWarning: Styler.applymap has been deprecated. Use Styler.map instead.\n",
      "  styled_table = CO_mean.style.applymap(color_aqi, subset=['CO AQI Mean'])\n"
     ]
    },
    {
     "data": {
      "text/html": [
       "<style type=\"text/css\">\n",
       "#T_b862a_row5_col1 {\n",
       "  background-color: red;\n",
       "  color: white;\n",
       "}\n",
       "#T_b862a_row30_col1 {\n",
       "  background-color: green;\n",
       "  color: white;\n",
       "}\n",
       "</style>\n",
       "<table id=\"T_b862a\">\n",
       "  <thead>\n",
       "    <tr>\n",
       "      <th class=\"blank level0\" >&nbsp;</th>\n",
       "      <th id=\"T_b862a_level0_col0\" class=\"col_heading level0 col0\" >State</th>\n",
       "      <th id=\"T_b862a_level0_col1\" class=\"col_heading level0 col1\" >CO AQI Mean</th>\n",
       "    </tr>\n",
       "  </thead>\n",
       "  <tbody>\n",
       "    <tr>\n",
       "      <th id=\"T_b862a_level0_row0\" class=\"row_heading level0 row0\" >0</th>\n",
       "      <td id=\"T_b862a_row0_col0\" class=\"data row0 col0\" >Arizona</td>\n",
       "      <td id=\"T_b862a_row0_col1\" class=\"data row0 col1\" >4.250470</td>\n",
       "    </tr>\n",
       "    <tr>\n",
       "      <th id=\"T_b862a_level0_row1\" class=\"row_heading level0 row1\" >1</th>\n",
       "      <td id=\"T_b862a_row1_col0\" class=\"data row1 col0\" >Arkansas</td>\n",
       "      <td id=\"T_b862a_row1_col1\" class=\"data row1 col1\" >3.355925</td>\n",
       "    </tr>\n",
       "    <tr>\n",
       "      <th id=\"T_b862a_level0_row2\" class=\"row_heading level0 row2\" >2</th>\n",
       "      <td id=\"T_b862a_row2_col0\" class=\"data row2 col0\" >California</td>\n",
       "      <td id=\"T_b862a_row2_col1\" class=\"data row2 col1\" >3.235519</td>\n",
       "    </tr>\n",
       "    <tr>\n",
       "      <th id=\"T_b862a_level0_row3\" class=\"row_heading level0 row3\" >3</th>\n",
       "      <td id=\"T_b862a_row3_col0\" class=\"data row3 col0\" >Colorado</td>\n",
       "      <td id=\"T_b862a_row3_col1\" class=\"data row3 col1\" >4.280659</td>\n",
       "    </tr>\n",
       "    <tr>\n",
       "      <th id=\"T_b862a_level0_row4\" class=\"row_heading level0 row4\" >4</th>\n",
       "      <td id=\"T_b862a_row4_col0\" class=\"data row4 col0\" >Connecticut</td>\n",
       "      <td id=\"T_b862a_row4_col1\" class=\"data row4 col1\" >2.317817</td>\n",
       "    </tr>\n",
       "    <tr>\n",
       "      <th id=\"T_b862a_level0_row5\" class=\"row_heading level0 row5\" >5</th>\n",
       "      <td id=\"T_b862a_row5_col0\" class=\"data row5 col0\" >Country Of Mexico</td>\n",
       "      <td id=\"T_b862a_row5_col1\" class=\"data row5 col1\" >9.188815</td>\n",
       "    </tr>\n",
       "    <tr>\n",
       "      <th id=\"T_b862a_level0_row6\" class=\"row_heading level0 row6\" >6</th>\n",
       "      <td id=\"T_b862a_row6_col0\" class=\"data row6 col0\" >District Of Columbia</td>\n",
       "      <td id=\"T_b862a_row6_col1\" class=\"data row6 col1\" >7.076041</td>\n",
       "    </tr>\n",
       "    <tr>\n",
       "      <th id=\"T_b862a_level0_row7\" class=\"row_heading level0 row7\" >7</th>\n",
       "      <td id=\"T_b862a_row7_col0\" class=\"data row7 col0\" >Florida</td>\n",
       "      <td id=\"T_b862a_row7_col1\" class=\"data row7 col1\" >2.163173</td>\n",
       "    </tr>\n",
       "    <tr>\n",
       "      <th id=\"T_b862a_level0_row8\" class=\"row_heading level0 row8\" >8</th>\n",
       "      <td id=\"T_b862a_row8_col0\" class=\"data row8 col0\" >Georgia</td>\n",
       "      <td id=\"T_b862a_row8_col1\" class=\"data row8 col1\" >3.396739</td>\n",
       "    </tr>\n",
       "    <tr>\n",
       "      <th id=\"T_b862a_level0_row9\" class=\"row_heading level0 row9\" >9</th>\n",
       "      <td id=\"T_b862a_row9_col0\" class=\"data row9 col0\" >Idaho</td>\n",
       "      <td id=\"T_b862a_row9_col1\" class=\"data row9 col1\" >1.386521</td>\n",
       "    </tr>\n",
       "    <tr>\n",
       "      <th id=\"T_b862a_level0_row10\" class=\"row_heading level0 row10\" >10</th>\n",
       "      <td id=\"T_b862a_row10_col0\" class=\"data row10 col0\" >Illinois</td>\n",
       "      <td id=\"T_b862a_row10_col1\" class=\"data row10 col1\" >2.401701</td>\n",
       "    </tr>\n",
       "    <tr>\n",
       "      <th id=\"T_b862a_level0_row11\" class=\"row_heading level0 row11\" >11</th>\n",
       "      <td id=\"T_b862a_row11_col0\" class=\"data row11 col0\" >Indiana</td>\n",
       "      <td id=\"T_b862a_row11_col1\" class=\"data row11 col1\" >2.804892</td>\n",
       "    </tr>\n",
       "    <tr>\n",
       "      <th id=\"T_b862a_level0_row12\" class=\"row_heading level0 row12\" >12</th>\n",
       "      <td id=\"T_b862a_row12_col0\" class=\"data row12 col0\" >Iowa</td>\n",
       "      <td id=\"T_b862a_row12_col1\" class=\"data row12 col1\" >1.803264</td>\n",
       "    </tr>\n",
       "    <tr>\n",
       "      <th id=\"T_b862a_level0_row13\" class=\"row_heading level0 row13\" >13</th>\n",
       "      <td id=\"T_b862a_row13_col0\" class=\"data row13 col0\" >Kansas</td>\n",
       "      <td id=\"T_b862a_row13_col1\" class=\"data row13 col1\" >3.166492</td>\n",
       "    </tr>\n",
       "    <tr>\n",
       "      <th id=\"T_b862a_level0_row14\" class=\"row_heading level0 row14\" >14</th>\n",
       "      <td id=\"T_b862a_row14_col0\" class=\"data row14 col0\" >Louisiana</td>\n",
       "      <td id=\"T_b862a_row14_col1\" class=\"data row14 col1\" >2.411279</td>\n",
       "    </tr>\n",
       "    <tr>\n",
       "      <th id=\"T_b862a_level0_row15\" class=\"row_heading level0 row15\" >15</th>\n",
       "      <td id=\"T_b862a_row15_col0\" class=\"data row15 col0\" >Maine</td>\n",
       "      <td id=\"T_b862a_row15_col1\" class=\"data row15 col1\" >1.396200</td>\n",
       "    </tr>\n",
       "    <tr>\n",
       "      <th id=\"T_b862a_level0_row16\" class=\"row_heading level0 row16\" >16</th>\n",
       "      <td id=\"T_b862a_row16_col0\" class=\"data row16 col0\" >Maryland</td>\n",
       "      <td id=\"T_b862a_row16_col1\" class=\"data row16 col1\" >3.087375</td>\n",
       "    </tr>\n",
       "    <tr>\n",
       "      <th id=\"T_b862a_level0_row17\" class=\"row_heading level0 row17\" >17</th>\n",
       "      <td id=\"T_b862a_row17_col0\" class=\"data row17 col0\" >Massachusetts</td>\n",
       "      <td id=\"T_b862a_row17_col1\" class=\"data row17 col1\" >2.486460</td>\n",
       "    </tr>\n",
       "    <tr>\n",
       "      <th id=\"T_b862a_level0_row18\" class=\"row_heading level0 row18\" >18</th>\n",
       "      <td id=\"T_b862a_row18_col0\" class=\"data row18 col0\" >Michigan</td>\n",
       "      <td id=\"T_b862a_row18_col1\" class=\"data row18 col1\" >2.681303</td>\n",
       "    </tr>\n",
       "    <tr>\n",
       "      <th id=\"T_b862a_level0_row19\" class=\"row_heading level0 row19\" >19</th>\n",
       "      <td id=\"T_b862a_row19_col0\" class=\"data row19 col0\" >Missouri</td>\n",
       "      <td id=\"T_b862a_row19_col1\" class=\"data row19 col1\" >3.303599</td>\n",
       "    </tr>\n",
       "    <tr>\n",
       "      <th id=\"T_b862a_level0_row20\" class=\"row_heading level0 row20\" >20</th>\n",
       "      <td id=\"T_b862a_row20_col0\" class=\"data row20 col0\" >Nevada</td>\n",
       "      <td id=\"T_b862a_row20_col1\" class=\"data row20 col1\" >3.150000</td>\n",
       "    </tr>\n",
       "    <tr>\n",
       "      <th id=\"T_b862a_level0_row21\" class=\"row_heading level0 row21\" >21</th>\n",
       "      <td id=\"T_b862a_row21_col0\" class=\"data row21 col0\" >New Hampshire</td>\n",
       "      <td id=\"T_b862a_row21_col1\" class=\"data row21 col1\" >3.100325</td>\n",
       "    </tr>\n",
       "    <tr>\n",
       "      <th id=\"T_b862a_level0_row22\" class=\"row_heading level0 row22\" >22</th>\n",
       "      <td id=\"T_b862a_row22_col0\" class=\"data row22 col0\" >New Jersey</td>\n",
       "      <td id=\"T_b862a_row22_col1\" class=\"data row22 col1\" >2.503689</td>\n",
       "    </tr>\n",
       "    <tr>\n",
       "      <th id=\"T_b862a_level0_row23\" class=\"row_heading level0 row23\" >23</th>\n",
       "      <td id=\"T_b862a_row23_col0\" class=\"data row23 col0\" >New York</td>\n",
       "      <td id=\"T_b862a_row23_col1\" class=\"data row23 col1\" >2.350973</td>\n",
       "    </tr>\n",
       "    <tr>\n",
       "      <th id=\"T_b862a_level0_row24\" class=\"row_heading level0 row24\" >24</th>\n",
       "      <td id=\"T_b862a_row24_col0\" class=\"data row24 col0\" >North Carolina</td>\n",
       "      <td id=\"T_b862a_row24_col1\" class=\"data row24 col1\" >2.819152</td>\n",
       "    </tr>\n",
       "    <tr>\n",
       "      <th id=\"T_b862a_level0_row25\" class=\"row_heading level0 row25\" >25</th>\n",
       "      <td id=\"T_b862a_row25_col0\" class=\"data row25 col0\" >North Dakota</td>\n",
       "      <td id=\"T_b862a_row25_col1\" class=\"data row25 col1\" >1.062675</td>\n",
       "    </tr>\n",
       "    <tr>\n",
       "      <th id=\"T_b862a_level0_row26\" class=\"row_heading level0 row26\" >26</th>\n",
       "      <td id=\"T_b862a_row26_col0\" class=\"data row26 col0\" >Ohio</td>\n",
       "      <td id=\"T_b862a_row26_col1\" class=\"data row26 col1\" >2.110251</td>\n",
       "    </tr>\n",
       "    <tr>\n",
       "      <th id=\"T_b862a_level0_row27\" class=\"row_heading level0 row27\" >27</th>\n",
       "      <td id=\"T_b862a_row27_col0\" class=\"data row27 col0\" >Oklahoma</td>\n",
       "      <td id=\"T_b862a_row27_col1\" class=\"data row27 col1\" >1.704403</td>\n",
       "    </tr>\n",
       "    <tr>\n",
       "      <th id=\"T_b862a_level0_row28\" class=\"row_heading level0 row28\" >28</th>\n",
       "      <td id=\"T_b862a_row28_col0\" class=\"data row28 col0\" >Oregon</td>\n",
       "      <td id=\"T_b862a_row28_col1\" class=\"data row28 col1\" >2.992233</td>\n",
       "    </tr>\n",
       "    <tr>\n",
       "      <th id=\"T_b862a_level0_row29\" class=\"row_heading level0 row29\" >29</th>\n",
       "      <td id=\"T_b862a_row29_col0\" class=\"data row29 col0\" >Pennsylvania</td>\n",
       "      <td id=\"T_b862a_row29_col1\" class=\"data row29 col1\" >1.753289</td>\n",
       "    </tr>\n",
       "    <tr>\n",
       "      <th id=\"T_b862a_level0_row30\" class=\"row_heading level0 row30\" >30</th>\n",
       "      <td id=\"T_b862a_row30_col0\" class=\"data row30 col0\" >South Carolina</td>\n",
       "      <td id=\"T_b862a_row30_col1\" class=\"data row30 col1\" >0.760904</td>\n",
       "    </tr>\n",
       "    <tr>\n",
       "      <th id=\"T_b862a_level0_row31\" class=\"row_heading level0 row31\" >31</th>\n",
       "      <td id=\"T_b862a_row31_col0\" class=\"data row31 col0\" >Tennessee</td>\n",
       "      <td id=\"T_b862a_row31_col1\" class=\"data row31 col1\" >1.016069</td>\n",
       "    </tr>\n",
       "    <tr>\n",
       "      <th id=\"T_b862a_level0_row32\" class=\"row_heading level0 row32\" >32</th>\n",
       "      <td id=\"T_b862a_row32_col0\" class=\"data row32 col0\" >Texas</td>\n",
       "      <td id=\"T_b862a_row32_col1\" class=\"data row32 col1\" >2.023968</td>\n",
       "    </tr>\n",
       "    <tr>\n",
       "      <th id=\"T_b862a_level0_row33\" class=\"row_heading level0 row33\" >33</th>\n",
       "      <td id=\"T_b862a_row33_col0\" class=\"data row33 col0\" >Virginia</td>\n",
       "      <td id=\"T_b862a_row33_col1\" class=\"data row33 col1\" >2.881795</td>\n",
       "    </tr>\n",
       "    <tr>\n",
       "      <th id=\"T_b862a_level0_row34\" class=\"row_heading level0 row34\" >34</th>\n",
       "      <td id=\"T_b862a_row34_col0\" class=\"data row34 col0\" >Wisconsin</td>\n",
       "      <td id=\"T_b862a_row34_col1\" class=\"data row34 col1\" >2.624011</td>\n",
       "    </tr>\n",
       "    <tr>\n",
       "      <th id=\"T_b862a_level0_row35\" class=\"row_heading level0 row35\" >35</th>\n",
       "      <td id=\"T_b862a_row35_col0\" class=\"data row35 col0\" >Wyoming</td>\n",
       "      <td id=\"T_b862a_row35_col1\" class=\"data row35 col1\" >0.906994</td>\n",
       "    </tr>\n",
       "  </tbody>\n",
       "</table>\n"
      ],
      "text/plain": [
       "<pandas.io.formats.style.Styler at 0x205d6f67140>"
      ]
     },
     "metadata": {},
     "output_type": "display_data"
    }
   ],
   "source": [
    "styled_table = CO_mean.style.applymap(color_aqi, subset=['CO AQI Mean'])\n",
    "display(styled_table)"
   ]
  },
  {
   "cell_type": "markdown",
   "id": "afb28c44",
   "metadata": {},
   "source": [
    "**The Country Of Mexico with 9.18 highest CO AQI Mean higly polluted with CO and South Carolina with 0.76 lowest CO AQI Mean least polluted with CO.**"
   ]
  },
  {
   "cell_type": "markdown",
   "id": "62cc1c8d",
   "metadata": {},
   "source": [
    "Maximum CO Present in each state"
   ]
  },
  {
   "cell_type": "code",
   "execution_count": 31,
   "id": "2e42e201",
   "metadata": {},
   "outputs": [
    {
     "data": {
      "image/png": "[encoded data removed]",
      "text/plain": [
       "<Figure size 1200x600 with 1 Axes>"
      ]
     },
     "metadata": {},
     "output_type": "display_data"
    }
   ],
   "source": [
    "Max_CO=df.groupby('State')['CO AQI'].max().sort_values(ascending=False)\n",
    "plt.figure(figsize=(12,6))\n",
    "Max_CO.plot(kind='bar',color='blue')\n",
    "plt.title('Maximum CO AQI Present in Each State')\n",
    "plt.ylabel('CO in (ppm)')\n",
    "plt.xlabel('State')\n",
    "plt.show()\n"
   ]
  },
  {
   "cell_type": "markdown",
   "id": "ec95ddc5",
   "metadata": {},
   "source": [
    "**Country of Mexico,California,Texas,New Hampshire are the states with maximum CO presnet highly polluted with CO.**\n",
    "\n",
    "**South Carolina , North Dakota ,Tennessee are the states with minimum CO present Least polluted .**"
   ]
  },
  {
   "cell_type": "markdown",
   "id": "ff849771",
   "metadata": {},
   "source": [
    "CO AQI (Air Quality Index) Treands "
   ]
  },
  {
   "cell_type": "code",
   "execution_count": 32,
   "id": "7997415c",
   "metadata": {},
   "outputs": [
    {
     "name": "stdout",
     "output_type": "stream",
     "text": [
      "Unique date formats in sample:\n",
      "['07-09-2010' '28-04-2008' '06-11-2009' '09-06-2008' '05-04-2008'\n",
      " '05-03-2009' '14-07-2007' '16-06-2010' '15-11-2008' '19-12-2006'\n",
      " '22-06-2008' '02-04-2009' '10-02-2006' '21-02-2006' '03-11-2008'\n",
      " '11-11-2006' '12-04-2009' '30-09-2006' '03-01-2006' '18-04-2006']\n"
     ]
    }
   ],
   "source": [
    "# Display unique date formats in a sample of the 'Date Local' column\n",
    "sample_dates = df['Date Local'].sample(20, random_state=42)\n",
    "\n",
    "print('\\\n",
    "Unique date formats in sample:')\n",
    "\n",
    "print(sample_dates.unique())"
   ]
  },
  {
   "cell_type": "code",
   "execution_count": 33,
   "id": "748353f6",
   "metadata": {},
   "outputs": [
    {
     "data": {
      "image/png": "[encoded data removed]",
      "text/plain": [
       "<Figure size 1000x600 with 1 Axes>"
      ]
     },
     "metadata": {},
     "output_type": "display_data"
    }
   ],
   "source": [
    "df['Date Local'] = pd.to_datetime(df['Date Local'], dayfirst=True, errors='coerce')\n",
    "year_treands=df.groupby(pd.to_datetime(df['Date Local']).dt.year)['CO AQI'].max()\n",
    "\n",
    "plt.figure(figsize=(10,6))\n",
    "year_treands.plot(kind='line',color='Red',marker='o')\n",
    "plt.title('Maximum CO AQI by Year (2006-2010)')\n",
    "plt.ylabel('CO AQI')\n",
    "plt.xlabel('year')\n",
    "plt.grid(True)\n",
    "plt.show()"
   ]
  },
  {
   "cell_type": "markdown",
   "id": "a53d4b30",
   "metadata": {},
   "source": [
    "**Over the year from 2006 to 2010 CO AQI gradually depleting  and it came close to 80 in 2009 and slightly Decreased in 2010.Overall change in airquality**"
   ]
  },
  {
   "cell_type": "code",
   "execution_count": 34,
   "id": "8976f501",
   "metadata": {},
   "outputs": [
    {
     "name": "stdout",
     "output_type": "stream",
     "text": [
      "Highest City of CO Pollutants :\n",
      "City\n",
      "Mexicali    11.257726\n",
      "Name: CO AQI, dtype: float64\n"
     ]
    }
   ],
   "source": [
    "# Highest City of CO Pollutants\n",
    "top_10=df.groupby(['City'])['CO AQI'].mean().sort_values(ascending=False).head(1)\n",
    "print('Highest City of CO Pollutants :')\n",
    "print(top_10)"
   ]
  },
  {
   "cell_type": "markdown",
   "id": "adba7c73",
   "metadata": {},
   "source": [
    "**The Highest city of CO Pollutants is Mexicali** "
   ]
  },
  {
   "cell_type": "code",
   "execution_count": 35,
   "id": "444a849b",
   "metadata": {},
   "outputs": [
    {
     "name": "stdout",
     "output_type": "stream",
     "text": [
      "Yearly CO Statistics:\n",
      "           CO Mean            CO AQI            \n",
      "              mean  min   max   mean  min    max\n",
      "Date Local                                      \n",
      "2006          0.41  0.0  6.53   3.48  0.0  150.0\n",
      "2007          0.37  0.0  6.50   3.00  0.0   81.0\n",
      "2008          0.33  0.0  3.82   2.67  0.0   90.0\n",
      "2009          0.32  0.0  4.05   2.58  0.0   81.0\n",
      "2010          0.34  0.0  3.56   2.69  0.0   51.0\n"
     ]
    }
   ],
   "source": [
    "import plotly.express as px\n",
    "import plotly.graph_objects as go\n",
    "from plotly.subplots import make_subplots\n",
    "\n",
    "df['Date Local'] = pd.to_datetime(df['Date Local'])\n",
    "\n",
    "\n",
    "# summary statistics based on date ranges\n",
    "yearly_stats = df.groupby(df['Date Local'].dt.year).agg({\n",
    "    'CO Mean': ['mean', 'min', 'max'],\n",
    "    'CO AQI': ['mean', 'min', 'max']\n",
    "}).round(2)\n",
    "\n",
    "print(\"\\\n",
    "Yearly CO Statistics:\")\n",
    "print(yearly_stats)"
   ]
  },
  {
   "cell_type": "markdown",
   "id": "a8e5e393",
   "metadata": {},
   "source": [
    "**Highest CO levels were recorded in 2006 (max 6.53 ppm)**\n",
    "\n",
    "**There's a general declining trend in average CO levels from 2006 to 2010**\n",
    "\n",
    "**The highest AQI value of 150 was recorded in 2006**\n",
    "\n",
    "**Recent years show lower maximum values, suggesting improved air quality**"
   ]
  },
  {
   "cell_type": "markdown",
   "id": "e7a6df1d",
   "metadata": {},
   "source": [
    "# Ozone is a gas. High in the atmosphere, it protects us from UV radiation. But at ground level, ozone is a pollutant."
   ]
  },
  {
   "cell_type": "code",
   "execution_count": 36,
   "id": "b5e9b843",
   "metadata": {},
   "outputs": [
    {
     "name": "stdout",
     "output_type": "stream",
     "text": [
      "Top 10 Highest state of O3 Pollutants :\n",
      "State\n",
      "North Carolina    42.733760\n",
      "Missouri          42.663537\n",
      "Wyoming           40.619048\n",
      "Pennsylvania      39.745689\n",
      "Indiana           38.481654\n",
      "Arizona           38.314290\n",
      "Ohio              37.996132\n",
      "Virginia          37.780835\n",
      "Tennessee         37.469716\n",
      "South Carolina    37.157018\n",
      "Name: O3 AQI, dtype: float64\n"
     ]
    }
   ],
   "source": [
    "#Top 10 Highest state of O3 Pollutants\n",
    "top_10=df.groupby('State')['O3 AQI'].mean().sort_values(ascending=False).head(10)\n",
    "print('Top 10 Highest state of O3 Pollutants :')\n",
    "print(top_10)\n"
   ]
  },
  {
   "cell_type": "markdown",
   "id": "6e95689b",
   "metadata": {},
   "source": [
    "**Wyoming,Tennessee,Ohio,South Carolina,Missouri,North Carolina ,Arizona ,Indiana ,Virginia,Pennsylvania,  are the top 10 highest state of O3 Pollutants.**              "
   ]
  },
  {
   "cell_type": "code",
   "execution_count": 86,
   "id": "c3e340cb",
   "metadata": {},
   "outputs": [
    {
     "name": "stdout",
     "output_type": "stream",
     "text": [
      "Top 10 Highest City of O3 Pollutants :\n",
      "City\n",
      "Rubidoux       53.597239\n",
      "Fresno         52.027516\n",
      "Fontana        50.740816\n",
      "Victorville    49.132291\n",
      "Norristown     47.654971\n",
      "Lancaster      47.453366\n",
      "Bristol        44.568507\n",
      "Westport       43.505415\n",
      "York           42.927570\n",
      "Charlotte      42.733760\n",
      "Name: O3 AQI, dtype: float64\n"
     ]
    }
   ],
   "source": [
    "top_10_city=df.groupby('City')['O3 AQI'].mean().sort_values(ascending=False).head(10)\n",
    "print('Top 10 Highest City of O3 Pollutants :')\n",
    "print(top_10_city)"
   ]
  },
  {
   "cell_type": "markdown",
   "id": "38836b8d",
   "metadata": {},
   "source": [
    "**Rubidoux,Fresno,Victorville,Norristown,Lancaster,Bristol,Westport,York,Charlotte highest city of O3 pollutant.**"
   ]
  },
  {
   "cell_type": "code",
   "execution_count": 37,
   "id": "b1c4d720",
   "metadata": {},
   "outputs": [
    {
     "name": "stdout",
     "output_type": "stream",
     "text": [
      "First Maximum Hours for O3\n",
      "10\n"
     ]
    }
   ],
   "source": [
    "# First maximum hours for O3 \n",
    "if \"O3 1st Max Hour\" in df.columns:\n",
    "    first_max=df['O3 1st Max Hour'].iloc[0]\n",
    "    print('First Maximum Hours for O3')\n",
    "    print(first_max)\n",
    "else:\n",
    "    print('Column Not found')"
   ]
  },
  {
   "cell_type": "markdown",
   "id": "8217c835",
   "metadata": {},
   "source": [
    "**The First Maximum hours for O3 is 10**"
   ]
  },
  {
   "cell_type": "code",
   "execution_count": 38,
   "id": "75f4667b",
   "metadata": {},
   "outputs": [
    {
     "name": "stdout",
     "output_type": "stream",
     "text": [
      "First Maximum Value for O3\n",
      "0.141\n"
     ]
    }
   ],
   "source": [
    "#First Maximum value for O3\n",
    "if \"O3 1st Max Value\" in df.columns:\n",
    "    first_max=df['O3 1st Max Value'].max()\n",
    "    print('First Maximum Value for O3')\n",
    "    print(first_max)\n",
    "else:\n",
    "    print('Column Not found')"
   ]
  },
  {
   "cell_type": "markdown",
   "id": "e11c5b84",
   "metadata": {},
   "source": [
    "**The First Maximum Value for O3 is 0.141**"
   ]
  },
  {
   "cell_type": "code",
   "execution_count": 39,
   "id": "8ee1b590",
   "metadata": {},
   "outputs": [
    {
     "name": "stdout",
     "output_type": "stream",
     "text": [
      "O3 Units Used\n",
      "Parts per million\n"
     ]
    }
   ],
   "source": [
    "#The Unit of O3 Used \n",
    "if \"O3 Units\" in df.columns:\n",
    "    O3_units=df['O3 Units'].iloc[0]\n",
    "    print('O3 Units Used')\n",
    "    print(O3_units)\n",
    "else:\n",
    "    print('Column Not found')"
   ]
  },
  {
   "cell_type": "markdown",
   "id": "8ef27579",
   "metadata": {},
   "source": [
    "**The O3 units used is Parts per million(ppm)**"
   ]
  },
  {
   "cell_type": "markdown",
   "id": "3894d268",
   "metadata": {},
   "source": [
    "O3 is measured in \"Parts per million\" (PPM) throughout the dataset"
   ]
  },
  {
   "cell_type": "code",
   "execution_count": 40,
   "id": "251c2bc2",
   "metadata": {},
   "outputs": [],
   "source": [
    "#Mean O3 AQI Per State \n",
    "\n",
    "df['O3 AQI'] = pd.to_numeric(df['O3 AQI'], errors='coerce')\n",
    "\n",
    "O3_mean=df.groupby('State')['O3 AQI'].mean().reset_index()\n",
    "O3_mean.columns=['State','O3 AQI Mean']"
   ]
  },
  {
   "cell_type": "code",
   "execution_count": 41,
   "id": "d95276ef",
   "metadata": {},
   "outputs": [],
   "source": [
    "#Find Min and max for the colourig \n",
    "min_aqi=O3_mean['O3 AQI Mean'].min()\n",
    "max_aqi=O3_mean['O3 AQI Mean'].max()"
   ]
  },
  {
   "cell_type": "code",
   "execution_count": 42,
   "id": "14d95fd9",
   "metadata": {},
   "outputs": [],
   "source": [
    "def color_aqi(val):\n",
    "    if val == max_aqi:\n",
    "        return 'background-color: red; color: white;'\n",
    "    elif val == min_aqi:\n",
    "        return 'background-color: green; color: white;'\n",
    "    else:\n",
    "        return ''"
   ]
  },
  {
   "cell_type": "code",
   "execution_count": 43,
   "id": "7d01f2de",
   "metadata": {},
   "outputs": [
    {
     "name": "stderr",
     "output_type": "stream",
     "text": [
      "C:\\Users\\LENOVO\\AppData\\Local\\Temp\\ipykernel_16480\\2225274570.py:1: FutureWarning: Styler.applymap has been deprecated. Use Styler.map instead.\n",
      "  styled_table = O3_mean.style.applymap(color_aqi, subset=['O3 AQI Mean'])\n"
     ]
    },
    {
     "data": {
      "text/html": [
       "<style type=\"text/css\">\n",
       "#T_b7853_row20_col1 {\n",
       "  background-color: green;\n",
       "  color: white;\n",
       "}\n",
       "#T_b7853_row24_col1 {\n",
       "  background-color: red;\n",
       "  color: white;\n",
       "}\n",
       "</style>\n",
       "<table id=\"T_b7853\">\n",
       "  <thead>\n",
       "    <tr>\n",
       "      <th class=\"blank level0\" >&nbsp;</th>\n",
       "      <th id=\"T_b7853_level0_col0\" class=\"col_heading level0 col0\" >State</th>\n",
       "      <th id=\"T_b7853_level0_col1\" class=\"col_heading level0 col1\" >O3 AQI Mean</th>\n",
       "    </tr>\n",
       "  </thead>\n",
       "  <tbody>\n",
       "    <tr>\n",
       "      <th id=\"T_b7853_level0_row0\" class=\"row_heading level0 row0\" >0</th>\n",
       "      <td id=\"T_b7853_row0_col0\" class=\"data row0 col0\" >Arizona</td>\n",
       "      <td id=\"T_b7853_row0_col1\" class=\"data row0 col1\" >38.314290</td>\n",
       "    </tr>\n",
       "    <tr>\n",
       "      <th id=\"T_b7853_level0_row1\" class=\"row_heading level0 row1\" >1</th>\n",
       "      <td id=\"T_b7853_row1_col0\" class=\"data row1 col0\" >Arkansas</td>\n",
       "      <td id=\"T_b7853_row1_col1\" class=\"data row1 col1\" >34.673801</td>\n",
       "    </tr>\n",
       "    <tr>\n",
       "      <th id=\"T_b7853_level0_row2\" class=\"row_heading level0 row2\" >2</th>\n",
       "      <td id=\"T_b7853_row2_col0\" class=\"data row2 col0\" >California</td>\n",
       "      <td id=\"T_b7853_row2_col1\" class=\"data row2 col1\" >34.908765</td>\n",
       "    </tr>\n",
       "    <tr>\n",
       "      <th id=\"T_b7853_level0_row3\" class=\"row_heading level0 row3\" >3</th>\n",
       "      <td id=\"T_b7853_row3_col0\" class=\"data row3 col0\" >Colorado</td>\n",
       "      <td id=\"T_b7853_row3_col1\" class=\"data row3 col1\" >32.948370</td>\n",
       "    </tr>\n",
       "    <tr>\n",
       "      <th id=\"T_b7853_level0_row4\" class=\"row_heading level0 row4\" >4</th>\n",
       "      <td id=\"T_b7853_row4_col0\" class=\"data row4 col0\" >Connecticut</td>\n",
       "      <td id=\"T_b7853_row4_col1\" class=\"data row4 col1\" >36.159370</td>\n",
       "    </tr>\n",
       "    <tr>\n",
       "      <th id=\"T_b7853_level0_row5\" class=\"row_heading level0 row5\" >5</th>\n",
       "      <td id=\"T_b7853_row5_col0\" class=\"data row5 col0\" >Country Of Mexico</td>\n",
       "      <td id=\"T_b7853_row5_col1\" class=\"data row5 col1\" >33.562846</td>\n",
       "    </tr>\n",
       "    <tr>\n",
       "      <th id=\"T_b7853_level0_row6\" class=\"row_heading level0 row6\" >6</th>\n",
       "      <td id=\"T_b7853_row6_col0\" class=\"data row6 col0\" >District Of Columbia</td>\n",
       "      <td id=\"T_b7853_row6_col1\" class=\"data row6 col1\" >36.818843</td>\n",
       "    </tr>\n",
       "    <tr>\n",
       "      <th id=\"T_b7853_level0_row7\" class=\"row_heading level0 row7\" >7</th>\n",
       "      <td id=\"T_b7853_row7_col0\" class=\"data row7 col0\" >Florida</td>\n",
       "      <td id=\"T_b7853_row7_col1\" class=\"data row7 col1\" >36.859433</td>\n",
       "    </tr>\n",
       "    <tr>\n",
       "      <th id=\"T_b7853_level0_row8\" class=\"row_heading level0 row8\" >8</th>\n",
       "      <td id=\"T_b7853_row8_col0\" class=\"data row8 col0\" >Georgia</td>\n",
       "      <td id=\"T_b7853_row8_col1\" class=\"data row8 col1\" >28.054348</td>\n",
       "    </tr>\n",
       "    <tr>\n",
       "      <th id=\"T_b7853_level0_row9\" class=\"row_heading level0 row9\" >9</th>\n",
       "      <td id=\"T_b7853_row9_col0\" class=\"data row9 col0\" >Idaho</td>\n",
       "      <td id=\"T_b7853_row9_col1\" class=\"data row9 col1\" >35.731567</td>\n",
       "    </tr>\n",
       "    <tr>\n",
       "      <th id=\"T_b7853_level0_row10\" class=\"row_heading level0 row10\" >10</th>\n",
       "      <td id=\"T_b7853_row10_col0\" class=\"data row10 col0\" >Illinois</td>\n",
       "      <td id=\"T_b7853_row10_col1\" class=\"data row10 col1\" >30.209755</td>\n",
       "    </tr>\n",
       "    <tr>\n",
       "      <th id=\"T_b7853_level0_row11\" class=\"row_heading level0 row11\" >11</th>\n",
       "      <td id=\"T_b7853_row11_col0\" class=\"data row11 col0\" >Indiana</td>\n",
       "      <td id=\"T_b7853_row11_col1\" class=\"data row11 col1\" >38.481654</td>\n",
       "    </tr>\n",
       "    <tr>\n",
       "      <th id=\"T_b7853_level0_row12\" class=\"row_heading level0 row12\" >12</th>\n",
       "      <td id=\"T_b7853_row12_col0\" class=\"data row12 col0\" >Iowa</td>\n",
       "      <td id=\"T_b7853_row12_col1\" class=\"data row12 col1\" >33.326355</td>\n",
       "    </tr>\n",
       "    <tr>\n",
       "      <th id=\"T_b7853_level0_row13\" class=\"row_heading level0 row13\" >13</th>\n",
       "      <td id=\"T_b7853_row13_col0\" class=\"data row13 col0\" >Kansas</td>\n",
       "      <td id=\"T_b7853_row13_col1\" class=\"data row13 col1\" >31.231778</td>\n",
       "    </tr>\n",
       "    <tr>\n",
       "      <th id=\"T_b7853_level0_row14\" class=\"row_heading level0 row14\" >14</th>\n",
       "      <td id=\"T_b7853_row14_col0\" class=\"data row14 col0\" >Louisiana</td>\n",
       "      <td id=\"T_b7853_row14_col1\" class=\"data row14 col1\" >32.642091</td>\n",
       "    </tr>\n",
       "    <tr>\n",
       "      <th id=\"T_b7853_level0_row15\" class=\"row_heading level0 row15\" >15</th>\n",
       "      <td id=\"T_b7853_row15_col0\" class=\"data row15 col0\" >Maine</td>\n",
       "      <td id=\"T_b7853_row15_col1\" class=\"data row15 col1\" >27.503987</td>\n",
       "    </tr>\n",
       "    <tr>\n",
       "      <th id=\"T_b7853_level0_row16\" class=\"row_heading level0 row16\" >16</th>\n",
       "      <td id=\"T_b7853_row16_col0\" class=\"data row16 col0\" >Maryland</td>\n",
       "      <td id=\"T_b7853_row16_col1\" class=\"data row16 col1\" >37.028997</td>\n",
       "    </tr>\n",
       "    <tr>\n",
       "      <th id=\"T_b7853_level0_row17\" class=\"row_heading level0 row17\" >17</th>\n",
       "      <td id=\"T_b7853_row17_col0\" class=\"data row17 col0\" >Massachusetts</td>\n",
       "      <td id=\"T_b7853_row17_col1\" class=\"data row17 col1\" >24.690522</td>\n",
       "    </tr>\n",
       "    <tr>\n",
       "      <th id=\"T_b7853_level0_row18\" class=\"row_heading level0 row18\" >18</th>\n",
       "      <td id=\"T_b7853_row18_col0\" class=\"data row18 col0\" >Michigan</td>\n",
       "      <td id=\"T_b7853_row18_col1\" class=\"data row18 col1\" >36.583569</td>\n",
       "    </tr>\n",
       "    <tr>\n",
       "      <th id=\"T_b7853_level0_row19\" class=\"row_heading level0 row19\" >19</th>\n",
       "      <td id=\"T_b7853_row19_col0\" class=\"data row19 col0\" >Missouri</td>\n",
       "      <td id=\"T_b7853_row19_col1\" class=\"data row19 col1\" >42.663537</td>\n",
       "    </tr>\n",
       "    <tr>\n",
       "      <th id=\"T_b7853_level0_row20\" class=\"row_heading level0 row20\" >20</th>\n",
       "      <td id=\"T_b7853_row20_col0\" class=\"data row20 col0\" >Nevada</td>\n",
       "      <td id=\"T_b7853_row20_col1\" class=\"data row20 col1\" >23.700000</td>\n",
       "    </tr>\n",
       "    <tr>\n",
       "      <th id=\"T_b7853_level0_row21\" class=\"row_heading level0 row21\" >21</th>\n",
       "      <td id=\"T_b7853_row21_col0\" class=\"data row21 col0\" >New Hampshire</td>\n",
       "      <td id=\"T_b7853_row21_col1\" class=\"data row21 col1\" >32.877380</td>\n",
       "    </tr>\n",
       "    <tr>\n",
       "      <th id=\"T_b7853_level0_row22\" class=\"row_heading level0 row22\" >22</th>\n",
       "      <td id=\"T_b7853_row22_col0\" class=\"data row22 col0\" >New Jersey</td>\n",
       "      <td id=\"T_b7853_row22_col1\" class=\"data row22 col1\" >35.985500</td>\n",
       "    </tr>\n",
       "    <tr>\n",
       "      <th id=\"T_b7853_level0_row23\" class=\"row_heading level0 row23\" >23</th>\n",
       "      <td id=\"T_b7853_row23_col0\" class=\"data row23 col0\" >New York</td>\n",
       "      <td id=\"T_b7853_row23_col1\" class=\"data row23 col1\" >32.240846</td>\n",
       "    </tr>\n",
       "    <tr>\n",
       "      <th id=\"T_b7853_level0_row24\" class=\"row_heading level0 row24\" >24</th>\n",
       "      <td id=\"T_b7853_row24_col0\" class=\"data row24 col0\" >North Carolina</td>\n",
       "      <td id=\"T_b7853_row24_col1\" class=\"data row24 col1\" >42.733760</td>\n",
       "    </tr>\n",
       "    <tr>\n",
       "      <th id=\"T_b7853_level0_row25\" class=\"row_heading level0 row25\" >25</th>\n",
       "      <td id=\"T_b7853_row25_col0\" class=\"data row25 col0\" >North Dakota</td>\n",
       "      <td id=\"T_b7853_row25_col1\" class=\"data row25 col1\" >29.149673</td>\n",
       "    </tr>\n",
       "    <tr>\n",
       "      <th id=\"T_b7853_level0_row26\" class=\"row_heading level0 row26\" >26</th>\n",
       "      <td id=\"T_b7853_row26_col0\" class=\"data row26 col0\" >Ohio</td>\n",
       "      <td id=\"T_b7853_row26_col1\" class=\"data row26 col1\" >37.996132</td>\n",
       "    </tr>\n",
       "    <tr>\n",
       "      <th id=\"T_b7853_level0_row27\" class=\"row_heading level0 row27\" >27</th>\n",
       "      <td id=\"T_b7853_row27_col0\" class=\"data row27 col0\" >Oklahoma</td>\n",
       "      <td id=\"T_b7853_row27_col1\" class=\"data row27 col1\" >35.687398</td>\n",
       "    </tr>\n",
       "    <tr>\n",
       "      <th id=\"T_b7853_level0_row28\" class=\"row_heading level0 row28\" >28</th>\n",
       "      <td id=\"T_b7853_row28_col0\" class=\"data row28 col0\" >Oregon</td>\n",
       "      <td id=\"T_b7853_row28_col1\" class=\"data row28 col1\" >24.406213</td>\n",
       "    </tr>\n",
       "    <tr>\n",
       "      <th id=\"T_b7853_level0_row29\" class=\"row_heading level0 row29\" >29</th>\n",
       "      <td id=\"T_b7853_row29_col0\" class=\"data row29 col0\" >Pennsylvania</td>\n",
       "      <td id=\"T_b7853_row29_col1\" class=\"data row29 col1\" >39.745689</td>\n",
       "    </tr>\n",
       "    <tr>\n",
       "      <th id=\"T_b7853_level0_row30\" class=\"row_heading level0 row30\" >30</th>\n",
       "      <td id=\"T_b7853_row30_col0\" class=\"data row30 col0\" >South Carolina</td>\n",
       "      <td id=\"T_b7853_row30_col1\" class=\"data row30 col1\" >37.157018</td>\n",
       "    </tr>\n",
       "    <tr>\n",
       "      <th id=\"T_b7853_level0_row31\" class=\"row_heading level0 row31\" >31</th>\n",
       "      <td id=\"T_b7853_row31_col0\" class=\"data row31 col0\" >Tennessee</td>\n",
       "      <td id=\"T_b7853_row31_col1\" class=\"data row31 col1\" >37.469716</td>\n",
       "    </tr>\n",
       "    <tr>\n",
       "      <th id=\"T_b7853_level0_row32\" class=\"row_heading level0 row32\" >32</th>\n",
       "      <td id=\"T_b7853_row32_col0\" class=\"data row32 col0\" >Texas</td>\n",
       "      <td id=\"T_b7853_row32_col1\" class=\"data row32 col1\" >33.907524</td>\n",
       "    </tr>\n",
       "    <tr>\n",
       "      <th id=\"T_b7853_level0_row33\" class=\"row_heading level0 row33\" >33</th>\n",
       "      <td id=\"T_b7853_row33_col0\" class=\"data row33 col0\" >Virginia</td>\n",
       "      <td id=\"T_b7853_row33_col1\" class=\"data row33 col1\" >37.780835</td>\n",
       "    </tr>\n",
       "    <tr>\n",
       "      <th id=\"T_b7853_level0_row34\" class=\"row_heading level0 row34\" >34</th>\n",
       "      <td id=\"T_b7853_row34_col0\" class=\"data row34 col0\" >Wisconsin</td>\n",
       "      <td id=\"T_b7853_row34_col1\" class=\"data row34 col1\" >27.321900</td>\n",
       "    </tr>\n",
       "    <tr>\n",
       "      <th id=\"T_b7853_level0_row35\" class=\"row_heading level0 row35\" >35</th>\n",
       "      <td id=\"T_b7853_row35_col0\" class=\"data row35 col0\" >Wyoming</td>\n",
       "      <td id=\"T_b7853_row35_col1\" class=\"data row35 col1\" >40.619048</td>\n",
       "    </tr>\n",
       "  </tbody>\n",
       "</table>\n"
      ],
      "text/plain": [
       "<pandas.io.formats.style.Styler at 0x205c3fa6270>"
      ]
     },
     "metadata": {},
     "output_type": "display_data"
    }
   ],
   "source": [
    "styled_table = O3_mean.style.applymap(color_aqi, subset=['O3 AQI Mean'])\n",
    "display(styled_table)"
   ]
  },
  {
   "cell_type": "markdown",
   "id": "34653a74",
   "metadata": {},
   "source": [
    "**North Carolina with 42.69 highest O3 AQI Mean higly polluted with O3 and Nevada with 23.70 lowest O3 AQI Mean least polluted with O3.**"
   ]
  },
  {
   "cell_type": "markdown",
   "id": "344f070e",
   "metadata": {},
   "source": [
    "Maximum O3 Present in each state"
   ]
  },
  {
   "cell_type": "code",
   "execution_count": 44,
   "id": "46b01731",
   "metadata": {},
   "outputs": [
    {
     "data": {
      "image/png": "[encoded data removed]",
      "text/plain": [
       "<Figure size 1200x600 with 1 Axes>"
      ]
     },
     "metadata": {},
     "output_type": "display_data"
    }
   ],
   "source": [
    "Max_O3=df.groupby('State')['O3 AQI'].max().sort_values(ascending=False)\n",
    "plt.figure(figsize=(12,6))\n",
    "Max_O3.plot(kind='bar',color='red')\n",
    "plt.title('Maximum O3 AQI Present in Each State')\n",
    "plt.ylabel('O3 in (ppm)')\n",
    "plt.xlabel('State')\n",
    "plt.show()"
   ]
  },
  {
   "cell_type": "markdown",
   "id": "50e549aa",
   "metadata": {},
   "source": [
    "**TheCountry of Mexico,California,North Carolina are the states which have maximum O3 and Georgia,Nevada  have lowest O3** "
   ]
  },
  {
   "cell_type": "code",
   "execution_count": 45,
   "id": "8ca89f80",
   "metadata": {},
   "outputs": [
    {
     "data": {
      "image/png": "[encoded data removed]",
      "text/plain": [
       "<Figure size 1000x600 with 1 Axes>"
      ]
     },
     "metadata": {},
     "output_type": "display_data"
    }
   ],
   "source": [
    "year_treands=df.groupby(pd.to_datetime(df['Date Local']).dt.year)['O3 AQI'].max()\n",
    "plt.figure(figsize=(10,6))\n",
    "year_treands.plot(kind='line',color='Green',marker='o')\n",
    "plt.title('Average O3 AQI by Year (2006-2010)')\n",
    "plt.ylabel('O3 AQI')\n",
    "plt.xlabel('year')\n",
    "plt.grid(True)\n",
    "plt.show()"
   ]
  },
  {
   "cell_type": "markdown",
   "id": "d2bd841a",
   "metadata": {},
   "source": [
    "**Over the year from 2006 to 2010 O3 AQI gradually depleting  and it came close to 206 in 2009 and in 2010 decrease  below 200.Overall change in airquality**"
   ]
  },
  {
   "cell_type": "code",
   "execution_count": 46,
   "id": "93841182",
   "metadata": {},
   "outputs": [
    {
     "name": "stdout",
     "output_type": "stream",
     "text": [
      "Highest City of O3 Pollutants :\n",
      "City\n",
      "Rubidoux    53.597239\n",
      "Name: O3 AQI, dtype: float64\n"
     ]
    }
   ],
   "source": [
    "# Highest City of O3 Pollutants\n",
    "top_10=df.groupby(['City'])['O3 AQI'].mean().sort_values(ascending=False).head(1)\n",
    "print('Highest City of O3 Pollutants :')\n",
    "print(top_10)"
   ]
  },
  {
   "cell_type": "markdown",
   "id": "5083b553",
   "metadata": {},
   "source": [
    "**The highest City of O3 Pollutants is Rubidoux**"
   ]
  },
  {
   "cell_type": "code",
   "execution_count": 47,
   "id": "f72a923d",
   "metadata": {},
   "outputs": [
    {
     "name": "stdout",
     "output_type": "stream",
     "text": [
      "Yearly O3 Statistics:\n",
      "           O3 Mean            O3 AQI         \n",
      "              mean  min   max   mean min  max\n",
      "Date Local                                   \n",
      "2006          0.03  0.0  0.07  36.20   0  206\n",
      "2007          0.03  0.0  0.07  36.39   0  211\n",
      "2008          0.03  0.0  0.08  35.26   0  207\n",
      "2009          0.03  0.0  0.07  33.02   0  206\n",
      "2010          0.03  0.0  0.07  34.33   0  200\n"
     ]
    }
   ],
   "source": [
    "# summary statistics based on date ranges\n",
    "yearly_stats = df.groupby(df['Date Local'].dt.year).agg({\n",
    "    'O3 Mean': ['mean', 'min', 'max'],\n",
    "    'O3 AQI': ['mean', 'min', 'max']\n",
    "}).round(2)\n",
    "\n",
    "print(\"\\\n",
    "Yearly O3 Statistics:\")\n",
    "print(yearly_stats)"
   ]
  },
  {
   "cell_type": "markdown",
   "id": "efd9d746",
   "metadata": {},
   "source": [
    "**Highest O3 levels were recorded in 2008 (max 0.08 ppm)**\n",
    "\n",
    "**There's a general Contant trend in average O3 levels from 2006 to 2010**\n",
    "\n",
    "**The highest AQI value of 211 was recorded in 2007**\n",
    "\n",
    "**Recent years show lower maximum values, suggesting improved air quality**"
   ]
  },
  {
   "cell_type": "markdown",
   "id": "a7eda724",
   "metadata": {},
   "source": [
    "# Sulphur dioxide is a gas. Breathing it in can irritate your nose, throat and lungs. Sulphur dioxide is a common air pollutant."
   ]
  },
  {
   "cell_type": "code",
   "execution_count": 48,
   "id": "f408f81a",
   "metadata": {},
   "outputs": [
    {
     "name": "stdout",
     "output_type": "stream",
     "text": [
      "Top 10 Highest state of SO2 Pollutants :\n",
      "State\n",
      "Missouri                9.840376\n",
      "Pennsylvania            8.586706\n",
      "Maryland                7.080318\n",
      "New Jersey              7.018570\n",
      "District Of Columbia    6.830165\n",
      "Indiana                 6.786255\n",
      "Kansas                  6.699790\n",
      "Michigan                6.368272\n",
      "Ohio                    6.253385\n",
      "New York                6.251107\n",
      "Name: SO2 AQI, dtype: float64\n"
     ]
    }
   ],
   "source": [
    "#Top 10 Highest state of SO2 Pollutants\n",
    "top_10=df.groupby('State')['SO2 AQI'].mean().sort_values(ascending=False).head(10)\n",
    "print('Top 10 Highest state of SO2 Pollutants :')\n",
    "print(top_10)"
   ]
  },
  {
   "cell_type": "markdown",
   "id": "7ecc8a59",
   "metadata": {},
   "source": [
    "**Missouri,Pennsylvania,Maryland,New Jersey,District of Columbia,Indiana,Kansas,Michigan,ohio,New York are the Top 10 highest states od SO2 Pollutants**"
   ]
  },
  {
   "cell_type": "code",
   "execution_count": 49,
   "id": "1442222a",
   "metadata": {},
   "outputs": [
    {
     "name": "stdout",
     "output_type": "stream",
     "text": [
      "First Maximum Hours for SO2\n",
      "0\n"
     ]
    }
   ],
   "source": [
    "# First maximum hours for SO2 \n",
    "if \"O3 1st Max Hour\" in df.columns:\n",
    "    first_max=df['SO2 1st Max Hour'].iloc[0]\n",
    "    print('First Maximum Hours for SO2')\n",
    "    print(first_max)\n",
    "else:\n",
    "    print('Column Not found')"
   ]
  },
  {
   "cell_type": "markdown",
   "id": "dd3d94b6",
   "metadata": {},
   "source": [
    "**The First Maximum Hours For SO2 is 0**"
   ]
  },
  {
   "cell_type": "code",
   "execution_count": 50,
   "id": "34cfd8f9",
   "metadata": {},
   "outputs": [
    {
     "name": "stdout",
     "output_type": "stream",
     "text": [
      "First Maximum Value for SO2\n",
      "351.0\n"
     ]
    }
   ],
   "source": [
    "#First Maximum value for SO2\n",
    "if \"SO2 1st Max Value\" in df.columns:\n",
    "    first_max=df['SO2 1st Max Value'].max()\n",
    "    print('First Maximum Value for SO2')\n",
    "    print(first_max)\n",
    "else:\n",
    "    print('Column Not found')"
   ]
  },
  {
   "cell_type": "markdown",
   "id": "6e3b923a",
   "metadata": {},
   "source": [
    "**The first Maximum Value For SO2 is 351**"
   ]
  },
  {
   "cell_type": "code",
   "execution_count": 51,
   "id": "ca8670d7",
   "metadata": {},
   "outputs": [
    {
     "name": "stdout",
     "output_type": "stream",
     "text": [
      "SO2 Units Used\n",
      "Parts per billion\n"
     ]
    }
   ],
   "source": [
    "#The Unit of SO2 Used \n",
    "if \"SO2 Units\" in df.columns:\n",
    "    SO2_units=df['SO2 Units'].iloc[0]\n",
    "    print('SO2 Units Used')\n",
    "    print(SO2_units)\n",
    "else:\n",
    "    print('Column Not found')"
   ]
  },
  {
   "cell_type": "markdown",
   "id": "336fcf46",
   "metadata": {},
   "source": [
    "**The SO2 Units Used is Parts Per Billion(ppb)**"
   ]
  },
  {
   "cell_type": "markdown",
   "id": "ee1d5a0c",
   "metadata": {},
   "source": [
    "SO2 is measured in \"Parts per billion\" (PPM) throughout the dataset"
   ]
  },
  {
   "cell_type": "code",
   "execution_count": 52,
   "id": "13ba67d6",
   "metadata": {},
   "outputs": [],
   "source": [
    "SO2_mean=df.groupby('State')['SO2 AQI'].mean().reset_index()\n",
    "SO2_mean.columns=['State','SO2 AQI Mean']"
   ]
  },
  {
   "cell_type": "code",
   "execution_count": 53,
   "id": "a5fe5bdb",
   "metadata": {},
   "outputs": [],
   "source": [
    "#Find Min and max for the colourig \n",
    "min_aqi=SO2_mean['SO2 AQI Mean'].min()\n",
    "max_aqi=SO2_mean['SO2 AQI Mean'].max()"
   ]
  },
  {
   "cell_type": "code",
   "execution_count": 54,
   "id": "3933d13f",
   "metadata": {},
   "outputs": [],
   "source": [
    "def color_aqi(val):\n",
    "    if val == max_aqi:\n",
    "        return 'background-color: red; color: white;'\n",
    "    elif val == min_aqi:\n",
    "        return 'background-color: green; color: white;'\n",
    "    else:\n",
    "        return ''"
   ]
  },
  {
   "cell_type": "code",
   "execution_count": 55,
   "id": "41048c6a",
   "metadata": {},
   "outputs": [
    {
     "name": "stderr",
     "output_type": "stream",
     "text": [
      "C:\\Users\\LENOVO\\AppData\\Local\\Temp\\ipykernel_16480\\322215448.py:1: FutureWarning: Styler.applymap has been deprecated. Use Styler.map instead.\n",
      "  styled_table = SO2_mean.style.applymap(color_aqi, subset=['SO2 AQI Mean'])\n"
     ]
    },
    {
     "data": {
      "text/html": [
       "<style type=\"text/css\">\n",
       "#T_d7889_row19_col1 {\n",
       "  background-color: red;\n",
       "  color: white;\n",
       "}\n",
       "#T_d7889_row25_col1 {\n",
       "  background-color: green;\n",
       "  color: white;\n",
       "}\n",
       "</style>\n",
       "<table id=\"T_d7889\">\n",
       "  <thead>\n",
       "    <tr>\n",
       "      <th class=\"blank level0\" >&nbsp;</th>\n",
       "      <th id=\"T_d7889_level0_col0\" class=\"col_heading level0 col0\" >State</th>\n",
       "      <th id=\"T_d7889_level0_col1\" class=\"col_heading level0 col1\" >SO2 AQI Mean</th>\n",
       "    </tr>\n",
       "  </thead>\n",
       "  <tbody>\n",
       "    <tr>\n",
       "      <th id=\"T_d7889_level0_row0\" class=\"row_heading level0 row0\" >0</th>\n",
       "      <td id=\"T_d7889_row0_col0\" class=\"data row0 col0\" >Arizona</td>\n",
       "      <td id=\"T_d7889_row0_col1\" class=\"data row0 col1\" >1.982861</td>\n",
       "    </tr>\n",
       "    <tr>\n",
       "      <th id=\"T_d7889_level0_row1\" class=\"row_heading level0 row1\" >1</th>\n",
       "      <td id=\"T_d7889_row1_col0\" class=\"data row1 col0\" >Arkansas</td>\n",
       "      <td id=\"T_d7889_row1_col1\" class=\"data row1 col1\" >1.970075</td>\n",
       "    </tr>\n",
       "    <tr>\n",
       "      <th id=\"T_d7889_level0_row2\" class=\"row_heading level0 row2\" >2</th>\n",
       "      <td id=\"T_d7889_row2_col0\" class=\"data row2 col0\" >California</td>\n",
       "      <td id=\"T_d7889_row2_col1\" class=\"data row2 col1\" >1.720169</td>\n",
       "    </tr>\n",
       "    <tr>\n",
       "      <th id=\"T_d7889_level0_row3\" class=\"row_heading level0 row3\" >3</th>\n",
       "      <td id=\"T_d7889_row3_col0\" class=\"data row3 col0\" >Colorado</td>\n",
       "      <td id=\"T_d7889_row3_col1\" class=\"data row3 col1\" >5.851159</td>\n",
       "    </tr>\n",
       "    <tr>\n",
       "      <th id=\"T_d7889_level0_row4\" class=\"row_heading level0 row4\" >4</th>\n",
       "      <td id=\"T_d7889_row4_col0\" class=\"data row4 col0\" >Connecticut</td>\n",
       "      <td id=\"T_d7889_row4_col1\" class=\"data row4 col1\" >2.801272</td>\n",
       "    </tr>\n",
       "    <tr>\n",
       "      <th id=\"T_d7889_level0_row5\" class=\"row_heading level0 row5\" >5</th>\n",
       "      <td id=\"T_d7889_row5_col0\" class=\"data row5 col0\" >Country Of Mexico</td>\n",
       "      <td id=\"T_d7889_row5_col1\" class=\"data row5 col1\" >3.318937</td>\n",
       "    </tr>\n",
       "    <tr>\n",
       "      <th id=\"T_d7889_level0_row6\" class=\"row_heading level0 row6\" >6</th>\n",
       "      <td id=\"T_d7889_row6_col0\" class=\"data row6 col0\" >District Of Columbia</td>\n",
       "      <td id=\"T_d7889_row6_col1\" class=\"data row6 col1\" >6.830165</td>\n",
       "    </tr>\n",
       "    <tr>\n",
       "      <th id=\"T_d7889_level0_row7\" class=\"row_heading level0 row7\" >7</th>\n",
       "      <td id=\"T_d7889_row7_col0\" class=\"data row7 col0\" >Florida</td>\n",
       "      <td id=\"T_d7889_row7_col1\" class=\"data row7 col1\" >1.535758</td>\n",
       "    </tr>\n",
       "    <tr>\n",
       "      <th id=\"T_d7889_level0_row8\" class=\"row_heading level0 row8\" >8</th>\n",
       "      <td id=\"T_d7889_row8_col0\" class=\"data row8 col0\" >Georgia</td>\n",
       "      <td id=\"T_d7889_row8_col1\" class=\"data row8 col1\" >2.630435</td>\n",
       "    </tr>\n",
       "    <tr>\n",
       "      <th id=\"T_d7889_level0_row9\" class=\"row_heading level0 row9\" >9</th>\n",
       "      <td id=\"T_d7889_row9_col0\" class=\"data row9 col0\" >Idaho</td>\n",
       "      <td id=\"T_d7889_row9_col1\" class=\"data row9 col1\" >0.382488</td>\n",
       "    </tr>\n",
       "    <tr>\n",
       "      <th id=\"T_d7889_level0_row10\" class=\"row_heading level0 row10\" >10</th>\n",
       "      <td id=\"T_d7889_row10_col0\" class=\"data row10 col0\" >Illinois</td>\n",
       "      <td id=\"T_d7889_row10_col1\" class=\"data row10 col1\" >4.420308</td>\n",
       "    </tr>\n",
       "    <tr>\n",
       "      <th id=\"T_d7889_level0_row11\" class=\"row_heading level0 row11\" >11</th>\n",
       "      <td id=\"T_d7889_row11_col0\" class=\"data row11 col0\" >Indiana</td>\n",
       "      <td id=\"T_d7889_row11_col1\" class=\"data row11 col1\" >6.786255</td>\n",
       "    </tr>\n",
       "    <tr>\n",
       "      <th id=\"T_d7889_level0_row12\" class=\"row_heading level0 row12\" >12</th>\n",
       "      <td id=\"T_d7889_row12_col0\" class=\"data row12 col0\" >Iowa</td>\n",
       "      <td id=\"T_d7889_row12_col1\" class=\"data row12 col1\" >0.747229</td>\n",
       "    </tr>\n",
       "    <tr>\n",
       "      <th id=\"T_d7889_level0_row13\" class=\"row_heading level0 row13\" >13</th>\n",
       "      <td id=\"T_d7889_row13_col0\" class=\"data row13 col0\" >Kansas</td>\n",
       "      <td id=\"T_d7889_row13_col1\" class=\"data row13 col1\" >6.699790</td>\n",
       "    </tr>\n",
       "    <tr>\n",
       "      <th id=\"T_d7889_level0_row14\" class=\"row_heading level0 row14\" >14</th>\n",
       "      <td id=\"T_d7889_row14_col0\" class=\"data row14 col0\" >Louisiana</td>\n",
       "      <td id=\"T_d7889_row14_col1\" class=\"data row14 col1\" >6.179367</td>\n",
       "    </tr>\n",
       "    <tr>\n",
       "      <th id=\"T_d7889_level0_row15\" class=\"row_heading level0 row15\" >15</th>\n",
       "      <td id=\"T_d7889_row15_col0\" class=\"data row15 col0\" >Maine</td>\n",
       "      <td id=\"T_d7889_row15_col1\" class=\"data row15 col1\" >2.174328</td>\n",
       "    </tr>\n",
       "    <tr>\n",
       "      <th id=\"T_d7889_level0_row16\" class=\"row_heading level0 row16\" >16</th>\n",
       "      <td id=\"T_d7889_row16_col0\" class=\"data row16 col0\" >Maryland</td>\n",
       "      <td id=\"T_d7889_row16_col1\" class=\"data row16 col1\" >7.080318</td>\n",
       "    </tr>\n",
       "    <tr>\n",
       "      <th id=\"T_d7889_level0_row17\" class=\"row_heading level0 row17\" >17</th>\n",
       "      <td id=\"T_d7889_row17_col0\" class=\"data row17 col0\" >Massachusetts</td>\n",
       "      <td id=\"T_d7889_row17_col1\" class=\"data row17 col1\" >3.644930</td>\n",
       "    </tr>\n",
       "    <tr>\n",
       "      <th id=\"T_d7889_level0_row18\" class=\"row_heading level0 row18\" >18</th>\n",
       "      <td id=\"T_d7889_row18_col0\" class=\"data row18 col0\" >Michigan</td>\n",
       "      <td id=\"T_d7889_row18_col1\" class=\"data row18 col1\" >6.368272</td>\n",
       "    </tr>\n",
       "    <tr>\n",
       "      <th id=\"T_d7889_level0_row19\" class=\"row_heading level0 row19\" >19</th>\n",
       "      <td id=\"T_d7889_row19_col0\" class=\"data row19 col0\" >Missouri</td>\n",
       "      <td id=\"T_d7889_row19_col1\" class=\"data row19 col1\" >9.840376</td>\n",
       "    </tr>\n",
       "    <tr>\n",
       "      <th id=\"T_d7889_level0_row20\" class=\"row_heading level0 row20\" >20</th>\n",
       "      <td id=\"T_d7889_row20_col0\" class=\"data row20 col0\" >Nevada</td>\n",
       "      <td id=\"T_d7889_row20_col1\" class=\"data row20 col1\" >0.650000</td>\n",
       "    </tr>\n",
       "    <tr>\n",
       "      <th id=\"T_d7889_level0_row21\" class=\"row_heading level0 row21\" >21</th>\n",
       "      <td id=\"T_d7889_row21_col0\" class=\"data row21 col0\" >New Hampshire</td>\n",
       "      <td id=\"T_d7889_row21_col1\" class=\"data row21 col1\" >4.472596</td>\n",
       "    </tr>\n",
       "    <tr>\n",
       "      <th id=\"T_d7889_level0_row22\" class=\"row_heading level0 row22\" >22</th>\n",
       "      <td id=\"T_d7889_row22_col0\" class=\"data row22 col0\" >New Jersey</td>\n",
       "      <td id=\"T_d7889_row22_col1\" class=\"data row22 col1\" >7.018570</td>\n",
       "    </tr>\n",
       "    <tr>\n",
       "      <th id=\"T_d7889_level0_row23\" class=\"row_heading level0 row23\" >23</th>\n",
       "      <td id=\"T_d7889_row23_col0\" class=\"data row23 col0\" >New York</td>\n",
       "      <td id=\"T_d7889_row23_col1\" class=\"data row23 col1\" >6.251107</td>\n",
       "    </tr>\n",
       "    <tr>\n",
       "      <th id=\"T_d7889_level0_row24\" class=\"row_heading level0 row24\" >24</th>\n",
       "      <td id=\"T_d7889_row24_col0\" class=\"data row24 col0\" >North Carolina</td>\n",
       "      <td id=\"T_d7889_row24_col1\" class=\"data row24 col1\" >5.518603</td>\n",
       "    </tr>\n",
       "    <tr>\n",
       "      <th id=\"T_d7889_level0_row25\" class=\"row_heading level0 row25\" >25</th>\n",
       "      <td id=\"T_d7889_row25_col0\" class=\"data row25 col0\" >North Dakota</td>\n",
       "      <td id=\"T_d7889_row25_col1\" class=\"data row25 col1\" >0.292797</td>\n",
       "    </tr>\n",
       "    <tr>\n",
       "      <th id=\"T_d7889_level0_row26\" class=\"row_heading level0 row26\" >26</th>\n",
       "      <td id=\"T_d7889_row26_col0\" class=\"data row26 col0\" >Ohio</td>\n",
       "      <td id=\"T_d7889_row26_col1\" class=\"data row26 col1\" >6.253385</td>\n",
       "    </tr>\n",
       "    <tr>\n",
       "      <th id=\"T_d7889_level0_row27\" class=\"row_heading level0 row27\" >27</th>\n",
       "      <td id=\"T_d7889_row27_col0\" class=\"data row27 col0\" >Oklahoma</td>\n",
       "      <td id=\"T_d7889_row27_col1\" class=\"data row27 col1\" >1.700326</td>\n",
       "    </tr>\n",
       "    <tr>\n",
       "      <th id=\"T_d7889_level0_row28\" class=\"row_heading level0 row28\" >28</th>\n",
       "      <td id=\"T_d7889_row28_col0\" class=\"data row28 col0\" >Oregon</td>\n",
       "      <td id=\"T_d7889_row28_col1\" class=\"data row28 col1\" >1.403860</td>\n",
       "    </tr>\n",
       "    <tr>\n",
       "      <th id=\"T_d7889_level0_row29\" class=\"row_heading level0 row29\" >29</th>\n",
       "      <td id=\"T_d7889_row29_col0\" class=\"data row29 col0\" >Pennsylvania</td>\n",
       "      <td id=\"T_d7889_row29_col1\" class=\"data row29 col1\" >8.586706</td>\n",
       "    </tr>\n",
       "    <tr>\n",
       "      <th id=\"T_d7889_level0_row30\" class=\"row_heading level0 row30\" >30</th>\n",
       "      <td id=\"T_d7889_row30_col0\" class=\"data row30 col0\" >South Carolina</td>\n",
       "      <td id=\"T_d7889_row30_col1\" class=\"data row30 col1\" >2.619350</td>\n",
       "    </tr>\n",
       "    <tr>\n",
       "      <th id=\"T_d7889_level0_row31\" class=\"row_heading level0 row31\" >31</th>\n",
       "      <td id=\"T_d7889_row31_col0\" class=\"data row31 col0\" >Tennessee</td>\n",
       "      <td id=\"T_d7889_row31_col1\" class=\"data row31 col1\" >1.270705</td>\n",
       "    </tr>\n",
       "    <tr>\n",
       "      <th id=\"T_d7889_level0_row32\" class=\"row_heading level0 row32\" >32</th>\n",
       "      <td id=\"T_d7889_row32_col0\" class=\"data row32 col0\" >Texas</td>\n",
       "      <td id=\"T_d7889_row32_col1\" class=\"data row32 col1\" >2.854941</td>\n",
       "    </tr>\n",
       "    <tr>\n",
       "      <th id=\"T_d7889_level0_row33\" class=\"row_heading level0 row33\" >33</th>\n",
       "      <td id=\"T_d7889_row33_col0\" class=\"data row33 col0\" >Virginia</td>\n",
       "      <td id=\"T_d7889_row33_col1\" class=\"data row33 col1\" >6.237265</td>\n",
       "    </tr>\n",
       "    <tr>\n",
       "      <th id=\"T_d7889_level0_row34\" class=\"row_heading level0 row34\" >34</th>\n",
       "      <td id=\"T_d7889_row34_col0\" class=\"data row34 col0\" >Wisconsin</td>\n",
       "      <td id=\"T_d7889_row34_col1\" class=\"data row34 col1\" >4.139842</td>\n",
       "    </tr>\n",
       "    <tr>\n",
       "      <th id=\"T_d7889_level0_row35\" class=\"row_heading level0 row35\" >35</th>\n",
       "      <td id=\"T_d7889_row35_col0\" class=\"data row35 col0\" >Wyoming</td>\n",
       "      <td id=\"T_d7889_row35_col1\" class=\"data row35 col1\" >0.478423</td>\n",
       "    </tr>\n",
       "  </tbody>\n",
       "</table>\n"
      ],
      "text/plain": [
       "<pandas.io.formats.style.Styler at 0x205c3f017c0>"
      ]
     },
     "metadata": {},
     "output_type": "display_data"
    }
   ],
   "source": [
    "styled_table = SO2_mean.style.applymap(color_aqi, subset=['SO2 AQI Mean'])\n",
    "display(styled_table)"
   ]
  },
  {
   "cell_type": "markdown",
   "id": "d6cce3cd",
   "metadata": {},
   "source": [
    "**Missouri with 9.84 highest SO2 AQI Mean higly polluted with SO2 and North Dakota with 0.29 lowest SO2 AQI Mean least polluted with SO2.**"
   ]
  },
  {
   "cell_type": "markdown",
   "id": "32044b59",
   "metadata": {},
   "source": [
    "Maximum SO2 Present in each state"
   ]
  },
  {
   "cell_type": "code",
   "execution_count": 56,
   "id": "d3da70e1",
   "metadata": {},
   "outputs": [
    {
     "data": {
      "image/png": "[encoded data removed]",
      "text/plain": [
       "<Figure size 1200x600 with 1 Axes>"
      ]
     },
     "metadata": {},
     "output_type": "display_data"
    }
   ],
   "source": [
    "Max_SO2=df.groupby('State')['SO2 AQI'].max().sort_values(ascending=False)\n",
    "plt.figure(figsize=(12,6))\n",
    "Max_SO2.plot(kind='bar',color='purple')\n",
    "plt.title('Maximum SO2 AQI Present in Each State')\n",
    "plt.ylabel('SO2 in (ppm)')\n",
    "plt.xlabel('State')\n",
    "plt.show()"
   ]
  },
  {
   "cell_type": "markdown",
   "id": "451a36b7",
   "metadata": {},
   "source": [
    "**The Oklahoma ,Colorado,California have the maximum SO2 present and Idaho,Nevada are with minimum SO2 present.**"
   ]
  },
  {
   "cell_type": "code",
   "execution_count": 57,
   "id": "02a73564",
   "metadata": {},
   "outputs": [
    {
     "data": {
      "image/png": "[encoded data removed]",
      "text/plain": [
       "<Figure size 1000x600 with 1 Axes>"
      ]
     },
     "metadata": {},
     "output_type": "display_data"
    }
   ],
   "source": [
    "year_treands=df.groupby(pd.to_datetime(df['Date Local']).dt.year)['SO2 AQI'].max()\n",
    "plt.figure(figsize=(10,6))\n",
    "year_treands.plot(kind='line',color='brown',marker='o')\n",
    "plt.title('Average SO2 AQI by Year (2006-2010)')\n",
    "plt.ylabel('SO2 AQI')\n",
    "plt.xlabel('year')\n",
    "plt.grid(True)\n",
    "plt.show()"
   ]
  },
  {
   "cell_type": "markdown",
   "id": "7faa4b18",
   "metadata": {},
   "source": [
    "**Over the year from 2006 to 2010 SO2 AQI gradually depleting  and it came close to 120 in 2009 and above 100 in 2010 .Overall change in airquality**"
   ]
  },
  {
   "cell_type": "code",
   "execution_count": 58,
   "id": "f661bd86",
   "metadata": {},
   "outputs": [
    {
     "name": "stdout",
     "output_type": "stream",
     "text": [
      "Highest City of SO2 Pollutants :\n",
      "City\n",
      "Beaver Falls    12.606383\n",
      "Name: SO2 AQI, dtype: float64\n"
     ]
    }
   ],
   "source": [
    "# Highest City of SO2 Pollutants\n",
    "top_10=df.groupby(['City'])['SO2 AQI'].mean().sort_values(ascending=False).head(1)\n",
    "print('Highest City of SO2 Pollutants :')\n",
    "print(top_10)\n"
   ]
  },
  {
   "cell_type": "markdown",
   "id": "0a6f9f03",
   "metadata": {},
   "source": [
    "**The highest city of SO2 Pollutants is Beaver Falls**"
   ]
  },
  {
   "cell_type": "code",
   "execution_count": 59,
   "id": "822e5423",
   "metadata": {},
   "outputs": [
    {
     "name": "stdout",
     "output_type": "stream",
     "text": [
      "Yearly SO2 Statistics:\n",
      "           SO2 Mean               SO2 AQI            \n",
      "               mean   min     max    mean  min    max\n",
      "Date Local                                           \n",
      "2006           2.60  0.00  321.62    5.00  0.0  200.0\n",
      "2007           2.34  0.00   32.04    4.53  0.0  176.0\n",
      "2008           1.91  0.00   31.00    3.68  0.0  125.0\n",
      "2009           1.56  0.00   33.00    2.75  0.0  120.0\n",
      "2010           1.18 -0.45   25.91    1.91  0.0  103.0\n"
     ]
    }
   ],
   "source": [
    "# summary statistics based on date ranges\n",
    "yearly_stats = df.groupby(df['Date Local'].dt.year).agg({\n",
    "    'SO2 Mean': ['mean', 'min', 'max'],\n",
    "    'SO2 AQI': ['mean', 'min', 'max']\n",
    "}).round(2)\n",
    "\n",
    "print(\"\\\n",
    "Yearly SO2 Statistics:\")\n",
    "print(yearly_stats)"
   ]
  },
  {
   "cell_type": "markdown",
   "id": "011048fd",
   "metadata": {},
   "source": [
    "**Highest SO2 levels were recorded in 2006 (max 321.62 ppm)**\n",
    "\n",
    "**There's a general decrease trend in average SO2 levels from 2006 to 2010**\n",
    "\n",
    "**The highest AQI value of 200 was recorded in 2006**\n",
    "\n",
    "**Recent years show lower maximum values, suggesting improved air quality**"
   ]
  },
  {
   "cell_type": "markdown",
   "id": "d6e76740",
   "metadata": {},
   "source": [
    "# NO₂ is an intermediate in the industrial synthesis of nitric acid, millions of tons of which are produced each year for use primarily in the production of fertilizers."
   ]
  },
  {
   "cell_type": "code",
   "execution_count": 60,
   "id": "4b62f988",
   "metadata": {},
   "outputs": [
    {
     "name": "stdout",
     "output_type": "stream",
     "text": [
      "Top 10 Highest state of NO2 Pollutants :\n",
      "State\n",
      "Country Of Mexico       38.888704\n",
      "Colorado                38.734909\n",
      "Arizona                 35.388709\n",
      "Nevada                  34.400000\n",
      "Georgia                 30.739130\n",
      "District Of Columbia    30.678781\n",
      "New Jersey              29.903587\n",
      "Massachusetts           29.729207\n",
      "Missouri                29.322379\n",
      "New York                27.565746\n",
      "Name: NO2 AQI, dtype: float64\n"
     ]
    }
   ],
   "source": [
    "#Top 10 Highest state of NO2 Pollutants\n",
    "top_10=df.groupby('State')['NO2 AQI'].mean().sort_values(ascending=False).head(10)\n",
    "print('Top 10 Highest state of NO2 Pollutants :')\n",
    "print(top_10)"
   ]
  },
  {
   "cell_type": "markdown",
   "id": "34ff3cc5",
   "metadata": {},
   "source": [
    "**The Country Of Mexico,Colorado,Arizona,Nevada,Georgia,District Of Columbia,District of Columbia,New Jersey,Massachusetts,Missouri,New York are the Top 10 Highest State Of NO2 Pollutant**"
   ]
  },
  {
   "cell_type": "code",
   "execution_count": 88,
   "id": "291d8ad0",
   "metadata": {},
   "outputs": [
    {
     "name": "stdout",
     "output_type": "stream",
     "text": [
      "Top 10 Highest City of NO2 Pollutants :\n",
      "City\n",
      "Denver         44.030486\n",
      "Mexicali       43.570262\n",
      "Tijuana        42.143918\n",
      "Burbank        40.069328\n",
      "Phoenix        39.170227\n",
      "Fontana        37.197959\n",
      "Scottsdale     37.056813\n",
      "Welby          36.289129\n",
      "New York       36.220152\n",
      "Los Angeles    35.142508\n",
      "Name: NO2 AQI, dtype: float64\n"
     ]
    }
   ],
   "source": [
    "top_10_city=df.groupby('City')['NO2 AQI'].mean().sort_values(ascending=False).head(10)\n",
    "print('Top 10 Highest City of NO2 Pollutants :')\n",
    "print(top_10_city)"
   ]
  },
  {
   "cell_type": "markdown",
   "id": "c00801d6",
   "metadata": {},
   "source": [
    "**Denver,Mexicali,Tijuana,Burbank,Phoenix,Fontana,Scottsdale,Welby,New York,Los Angeles highest city of NO2 Pollutants.**"
   ]
  },
  {
   "cell_type": "code",
   "execution_count": 61,
   "id": "ad8e9e44",
   "metadata": {},
   "outputs": [
    {
     "name": "stdout",
     "output_type": "stream",
     "text": [
      "First Maximum Hours for NO2\n",
      "2\n"
     ]
    }
   ],
   "source": [
    "# First maximum hours for NO2 \n",
    "if \"NO2 1st Max Hour\" in df.columns:\n",
    "    first_max=df['NO2 1st Max Hour'].iloc[0]\n",
    "    print('First Maximum Hours for NO2')\n",
    "    print(first_max)\n",
    "else:\n",
    "    print('Column Not found')"
   ]
  },
  {
   "cell_type": "markdown",
   "id": "b295af7f",
   "metadata": {},
   "source": [
    "**The First Maximum Hours for NO2 is 2**"
   ]
  },
  {
   "cell_type": "code",
   "execution_count": 62,
   "id": "9205a9c1",
   "metadata": {},
   "outputs": [
    {
     "name": "stdout",
     "output_type": "stream",
     "text": [
      "First Maximum Value for NO2\n",
      "176.0\n"
     ]
    }
   ],
   "source": [
    "#First Maximum value for NO2\n",
    "if \"SO2 1st Max Value\" in df.columns:\n",
    "    first_max=df['NO2 1st Max Value'].max()\n",
    "    print('First Maximum Value for NO2')\n",
    "    print(first_max)\n",
    "else:\n",
    "    print('Column Not found')"
   ]
  },
  {
   "cell_type": "markdown",
   "id": "3e9271f1",
   "metadata": {},
   "source": [
    "**The First Maximum Value for NO2 is 176**"
   ]
  },
  {
   "cell_type": "code",
   "execution_count": 63,
   "id": "eee7cd00",
   "metadata": {},
   "outputs": [
    {
     "name": "stdout",
     "output_type": "stream",
     "text": [
      "NO2 Units Used\n",
      "Parts per billion\n"
     ]
    }
   ],
   "source": [
    "#The Unit of NO2 Used \n",
    "if \"NO2 Units\" in df.columns:\n",
    "    NO2_units=df['NO2 Units'].iloc[0]\n",
    "    print('NO2 Units Used')\n",
    "    print(NO2_units)\n",
    "else:\n",
    "    print('Column Not found')"
   ]
  },
  {
   "cell_type": "markdown",
   "id": "23eae861",
   "metadata": {},
   "source": [
    "**The NO2 Units Used is Parts per Billion (ppb)**"
   ]
  },
  {
   "cell_type": "markdown",
   "id": "839a5a49",
   "metadata": {},
   "source": [
    "NO2 is measured in \"Parts per billion\" (PPb) throughout the dataset"
   ]
  },
  {
   "cell_type": "code",
   "execution_count": 64,
   "id": "dbeb23f4",
   "metadata": {},
   "outputs": [],
   "source": [
    "NO2_mean=df.groupby('State')['NO2 AQI'].mean().reset_index()\n",
    "NO2_mean.columns=['State','NO2 AQI Mean']"
   ]
  },
  {
   "cell_type": "code",
   "execution_count": 65,
   "id": "aacd40c7",
   "metadata": {},
   "outputs": [],
   "source": [
    "#Find Min and max for the colourig \n",
    "min_aqi=NO2_mean['NO2 AQI Mean'].min()\n",
    "max_aqi=NO2_mean['NO2 AQI Mean'].max()"
   ]
  },
  {
   "cell_type": "code",
   "execution_count": 66,
   "id": "6b1766de",
   "metadata": {},
   "outputs": [],
   "source": [
    "def color_aqi(val):\n",
    "    if val == max_aqi:\n",
    "        return 'background-color: red; color: white;'\n",
    "    elif val == min_aqi:\n",
    "        return 'background-color: green; color: white;'\n",
    "    else:\n",
    "        return ''"
   ]
  },
  {
   "cell_type": "code",
   "execution_count": 67,
   "id": "81b7cc12",
   "metadata": {},
   "outputs": [
    {
     "name": "stderr",
     "output_type": "stream",
     "text": [
      "C:\\Users\\LENOVO\\AppData\\Local\\Temp\\ipykernel_16480\\1643923477.py:1: FutureWarning: Styler.applymap has been deprecated. Use Styler.map instead.\n",
      "  styled_table = NO2_mean.style.applymap(color_aqi, subset=['NO2 AQI Mean'])\n"
     ]
    },
    {
     "data": {
      "text/html": [
       "<style type=\"text/css\">\n",
       "#T_b67bc_row5_col1 {\n",
       "  background-color: red;\n",
       "  color: white;\n",
       "}\n",
       "#T_b67bc_row31_col1 {\n",
       "  background-color: green;\n",
       "  color: white;\n",
       "}\n",
       "</style>\n",
       "<table id=\"T_b67bc\">\n",
       "  <thead>\n",
       "    <tr>\n",
       "      <th class=\"blank level0\" >&nbsp;</th>\n",
       "      <th id=\"T_b67bc_level0_col0\" class=\"col_heading level0 col0\" >State</th>\n",
       "      <th id=\"T_b67bc_level0_col1\" class=\"col_heading level0 col1\" >NO2 AQI Mean</th>\n",
       "    </tr>\n",
       "  </thead>\n",
       "  <tbody>\n",
       "    <tr>\n",
       "      <th id=\"T_b67bc_level0_row0\" class=\"row_heading level0 row0\" >0</th>\n",
       "      <td id=\"T_b67bc_row0_col0\" class=\"data row0 col0\" >Arizona</td>\n",
       "      <td id=\"T_b67bc_row0_col1\" class=\"data row0 col1\" >35.388709</td>\n",
       "    </tr>\n",
       "    <tr>\n",
       "      <th id=\"T_b67bc_level0_row1\" class=\"row_heading level0 row1\" >1</th>\n",
       "      <td id=\"T_b67bc_row1_col0\" class=\"data row1 col0\" >Arkansas</td>\n",
       "      <td id=\"T_b67bc_row1_col1\" class=\"data row1 col1\" >21.266350</td>\n",
       "    </tr>\n",
       "    <tr>\n",
       "      <th id=\"T_b67bc_level0_row2\" class=\"row_heading level0 row2\" >2</th>\n",
       "      <td id=\"T_b67bc_row2_col0\" class=\"data row2 col0\" >California</td>\n",
       "      <td id=\"T_b67bc_row2_col1\" class=\"data row2 col1\" >23.426383</td>\n",
       "    </tr>\n",
       "    <tr>\n",
       "      <th id=\"T_b67bc_level0_row3\" class=\"row_heading level0 row3\" >3</th>\n",
       "      <td id=\"T_b67bc_row3_col0\" class=\"data row3 col0\" >Colorado</td>\n",
       "      <td id=\"T_b67bc_row3_col1\" class=\"data row3 col1\" >38.734909</td>\n",
       "    </tr>\n",
       "    <tr>\n",
       "      <th id=\"T_b67bc_level0_row4\" class=\"row_heading level0 row4\" >4</th>\n",
       "      <td id=\"T_b67bc_row4_col0\" class=\"data row4 col0\" >Connecticut</td>\n",
       "      <td id=\"T_b67bc_row4_col1\" class=\"data row4 col1\" >23.126371</td>\n",
       "    </tr>\n",
       "    <tr>\n",
       "      <th id=\"T_b67bc_level0_row5\" class=\"row_heading level0 row5\" >5</th>\n",
       "      <td id=\"T_b67bc_row5_col0\" class=\"data row5 col0\" >Country Of Mexico</td>\n",
       "      <td id=\"T_b67bc_row5_col1\" class=\"data row5 col1\" >38.888704</td>\n",
       "    </tr>\n",
       "    <tr>\n",
       "      <th id=\"T_b67bc_level0_row6\" class=\"row_heading level0 row6\" >6</th>\n",
       "      <td id=\"T_b67bc_row6_col0\" class=\"data row6 col0\" >District Of Columbia</td>\n",
       "      <td id=\"T_b67bc_row6_col1\" class=\"data row6 col1\" >30.678781</td>\n",
       "    </tr>\n",
       "    <tr>\n",
       "      <th id=\"T_b67bc_level0_row7\" class=\"row_heading level0 row7\" >7</th>\n",
       "      <td id=\"T_b67bc_row7_col0\" class=\"data row7 col0\" >Florida</td>\n",
       "      <td id=\"T_b67bc_row7_col1\" class=\"data row7 col1\" >14.355117</td>\n",
       "    </tr>\n",
       "    <tr>\n",
       "      <th id=\"T_b67bc_level0_row8\" class=\"row_heading level0 row8\" >8</th>\n",
       "      <td id=\"T_b67bc_row8_col0\" class=\"data row8 col0\" >Georgia</td>\n",
       "      <td id=\"T_b67bc_row8_col1\" class=\"data row8 col1\" >30.739130</td>\n",
       "    </tr>\n",
       "    <tr>\n",
       "      <th id=\"T_b67bc_level0_row9\" class=\"row_heading level0 row9\" >9</th>\n",
       "      <td id=\"T_b67bc_row9_col0\" class=\"data row9 col0\" >Idaho</td>\n",
       "      <td id=\"T_b67bc_row9_col1\" class=\"data row9 col1\" >23.682028</td>\n",
       "    </tr>\n",
       "    <tr>\n",
       "      <th id=\"T_b67bc_level0_row10\" class=\"row_heading level0 row10\" >10</th>\n",
       "      <td id=\"T_b67bc_row10_col0\" class=\"data row10 col0\" >Illinois</td>\n",
       "      <td id=\"T_b67bc_row10_col1\" class=\"data row10 col1\" >26.929988</td>\n",
       "    </tr>\n",
       "    <tr>\n",
       "      <th id=\"T_b67bc_level0_row11\" class=\"row_heading level0 row11\" >11</th>\n",
       "      <td id=\"T_b67bc_row11_col0\" class=\"data row11 col0\" >Indiana</td>\n",
       "      <td id=\"T_b67bc_row11_col1\" class=\"data row11 col1\" >21.763541</td>\n",
       "    </tr>\n",
       "    <tr>\n",
       "      <th id=\"T_b67bc_level0_row12\" class=\"row_heading level0 row12\" >12</th>\n",
       "      <td id=\"T_b67bc_row12_col0\" class=\"data row12 col0\" >Iowa</td>\n",
       "      <td id=\"T_b67bc_row12_col1\" class=\"data row12 col1\" >15.606835</td>\n",
       "    </tr>\n",
       "    <tr>\n",
       "      <th id=\"T_b67bc_level0_row13\" class=\"row_heading level0 row13\" >13</th>\n",
       "      <td id=\"T_b67bc_row13_col0\" class=\"data row13 col0\" >Kansas</td>\n",
       "      <td id=\"T_b67bc_row13_col1\" class=\"data row13 col1\" >25.465653</td>\n",
       "    </tr>\n",
       "    <tr>\n",
       "      <th id=\"T_b67bc_level0_row14\" class=\"row_heading level0 row14\" >14</th>\n",
       "      <td id=\"T_b67bc_row14_col0\" class=\"data row14 col0\" >Louisiana</td>\n",
       "      <td id=\"T_b67bc_row14_col1\" class=\"data row14 col1\" >27.069876</td>\n",
       "    </tr>\n",
       "    <tr>\n",
       "      <th id=\"T_b67bc_level0_row15\" class=\"row_heading level0 row15\" >15</th>\n",
       "      <td id=\"T_b67bc_row15_col0\" class=\"data row15 col0\" >Maine</td>\n",
       "      <td id=\"T_b67bc_row15_col1\" class=\"data row15 col1\" >11.057092</td>\n",
       "    </tr>\n",
       "    <tr>\n",
       "      <th id=\"T_b67bc_level0_row16\" class=\"row_heading level0 row16\" >16</th>\n",
       "      <td id=\"T_b67bc_row16_col0\" class=\"data row16 col0\" >Maryland</td>\n",
       "      <td id=\"T_b67bc_row16_col1\" class=\"data row16 col1\" >25.043880</td>\n",
       "    </tr>\n",
       "    <tr>\n",
       "      <th id=\"T_b67bc_level0_row17\" class=\"row_heading level0 row17\" >17</th>\n",
       "      <td id=\"T_b67bc_row17_col0\" class=\"data row17 col0\" >Massachusetts</td>\n",
       "      <td id=\"T_b67bc_row17_col1\" class=\"data row17 col1\" >29.729207</td>\n",
       "    </tr>\n",
       "    <tr>\n",
       "      <th id=\"T_b67bc_level0_row18\" class=\"row_heading level0 row18\" >18</th>\n",
       "      <td id=\"T_b67bc_row18_col0\" class=\"data row18 col0\" >Michigan</td>\n",
       "      <td id=\"T_b67bc_row18_col1\" class=\"data row18 col1\" >24.917847</td>\n",
       "    </tr>\n",
       "    <tr>\n",
       "      <th id=\"T_b67bc_level0_row19\" class=\"row_heading level0 row19\" >19</th>\n",
       "      <td id=\"T_b67bc_row19_col0\" class=\"data row19 col0\" >Missouri</td>\n",
       "      <td id=\"T_b67bc_row19_col1\" class=\"data row19 col1\" >29.322379</td>\n",
       "    </tr>\n",
       "    <tr>\n",
       "      <th id=\"T_b67bc_level0_row20\" class=\"row_heading level0 row20\" >20</th>\n",
       "      <td id=\"T_b67bc_row20_col0\" class=\"data row20 col0\" >Nevada</td>\n",
       "      <td id=\"T_b67bc_row20_col1\" class=\"data row20 col1\" >34.400000</td>\n",
       "    </tr>\n",
       "    <tr>\n",
       "      <th id=\"T_b67bc_level0_row21\" class=\"row_heading level0 row21\" >21</th>\n",
       "      <td id=\"T_b67bc_row21_col0\" class=\"data row21 col0\" >New Hampshire</td>\n",
       "      <td id=\"T_b67bc_row21_col1\" class=\"data row21 col1\" >15.195541</td>\n",
       "    </tr>\n",
       "    <tr>\n",
       "      <th id=\"T_b67bc_level0_row22\" class=\"row_heading level0 row22\" >22</th>\n",
       "      <td id=\"T_b67bc_row22_col0\" class=\"data row22 col0\" >New Jersey</td>\n",
       "      <td id=\"T_b67bc_row22_col1\" class=\"data row22 col1\" >29.903587</td>\n",
       "    </tr>\n",
       "    <tr>\n",
       "      <th id=\"T_b67bc_level0_row23\" class=\"row_heading level0 row23\" >23</th>\n",
       "      <td id=\"T_b67bc_row23_col0\" class=\"data row23 col0\" >New York</td>\n",
       "      <td id=\"T_b67bc_row23_col1\" class=\"data row23 col1\" >27.565746</td>\n",
       "    </tr>\n",
       "    <tr>\n",
       "      <th id=\"T_b67bc_level0_row24\" class=\"row_heading level0 row24\" >24</th>\n",
       "      <td id=\"T_b67bc_row24_col0\" class=\"data row24 col0\" >North Carolina</td>\n",
       "      <td id=\"T_b67bc_row24_col1\" class=\"data row24 col1\" >24.654773</td>\n",
       "    </tr>\n",
       "    <tr>\n",
       "      <th id=\"T_b67bc_level0_row25\" class=\"row_heading level0 row25\" >25</th>\n",
       "      <td id=\"T_b67bc_row25_col0\" class=\"data row25 col0\" >North Dakota</td>\n",
       "      <td id=\"T_b67bc_row25_col1\" class=\"data row25 col1\" >13.485500</td>\n",
       "    </tr>\n",
       "    <tr>\n",
       "      <th id=\"T_b67bc_level0_row26\" class=\"row_heading level0 row26\" >26</th>\n",
       "      <td id=\"T_b67bc_row26_col0\" class=\"data row26 col0\" >Ohio</td>\n",
       "      <td id=\"T_b67bc_row26_col1\" class=\"data row26 col1\" >11.363636</td>\n",
       "    </tr>\n",
       "    <tr>\n",
       "      <th id=\"T_b67bc_level0_row27\" class=\"row_heading level0 row27\" >27</th>\n",
       "      <td id=\"T_b67bc_row27_col0\" class=\"data row27 col0\" >Oklahoma</td>\n",
       "      <td id=\"T_b67bc_row27_col1\" class=\"data row27 col1\" >14.708828</td>\n",
       "    </tr>\n",
       "    <tr>\n",
       "      <th id=\"T_b67bc_level0_row28\" class=\"row_heading level0 row28\" >28</th>\n",
       "      <td id=\"T_b67bc_row28_col0\" class=\"data row28 col0\" >Oregon</td>\n",
       "      <td id=\"T_b67bc_row28_col1\" class=\"data row28 col1\" >19.026359</td>\n",
       "    </tr>\n",
       "    <tr>\n",
       "      <th id=\"T_b67bc_level0_row29\" class=\"row_heading level0 row29\" >29</th>\n",
       "      <td id=\"T_b67bc_row29_col0\" class=\"data row29 col0\" >Pennsylvania</td>\n",
       "      <td id=\"T_b67bc_row29_col1\" class=\"data row29 col1\" >23.001273</td>\n",
       "    </tr>\n",
       "    <tr>\n",
       "      <th id=\"T_b67bc_level0_row30\" class=\"row_heading level0 row30\" >30</th>\n",
       "      <td id=\"T_b67bc_row30_col0\" class=\"data row30 col0\" >South Carolina</td>\n",
       "      <td id=\"T_b67bc_row30_col1\" class=\"data row30 col1\" >4.656622</td>\n",
       "    </tr>\n",
       "    <tr>\n",
       "      <th id=\"T_b67bc_level0_row31\" class=\"row_heading level0 row31\" >31</th>\n",
       "      <td id=\"T_b67bc_row31_col0\" class=\"data row31 col0\" >Tennessee</td>\n",
       "      <td id=\"T_b67bc_row31_col1\" class=\"data row31 col1\" >1.707046</td>\n",
       "    </tr>\n",
       "    <tr>\n",
       "      <th id=\"T_b67bc_level0_row32\" class=\"row_heading level0 row32\" >32</th>\n",
       "      <td id=\"T_b67bc_row32_col0\" class=\"data row32 col0\" >Texas</td>\n",
       "      <td id=\"T_b67bc_row32_col1\" class=\"data row32 col1\" >23.097795</td>\n",
       "    </tr>\n",
       "    <tr>\n",
       "      <th id=\"T_b67bc_level0_row33\" class=\"row_heading level0 row33\" >33</th>\n",
       "      <td id=\"T_b67bc_row33_col0\" class=\"data row33 col0\" >Virginia</td>\n",
       "      <td id=\"T_b67bc_row33_col1\" class=\"data row33 col1\" >23.174411</td>\n",
       "    </tr>\n",
       "    <tr>\n",
       "      <th id=\"T_b67bc_level0_row34\" class=\"row_heading level0 row34\" >34</th>\n",
       "      <td id=\"T_b67bc_row34_col0\" class=\"data row34 col0\" >Wisconsin</td>\n",
       "      <td id=\"T_b67bc_row34_col1\" class=\"data row34 col1\" >26.166227</td>\n",
       "    </tr>\n",
       "    <tr>\n",
       "      <th id=\"T_b67bc_level0_row35\" class=\"row_heading level0 row35\" >35</th>\n",
       "      <td id=\"T_b67bc_row35_col0\" class=\"data row35 col0\" >Wyoming</td>\n",
       "      <td id=\"T_b67bc_row35_col1\" class=\"data row35 col1\" >6.403274</td>\n",
       "    </tr>\n",
       "  </tbody>\n",
       "</table>\n"
      ],
      "text/plain": [
       "<pandas.io.formats.style.Styler at 0x205d7136270>"
      ]
     },
     "metadata": {},
     "output_type": "display_data"
    }
   ],
   "source": [
    "styled_table = NO2_mean.style.applymap(color_aqi, subset=['NO2 AQI Mean'])\n",
    "display(styled_table)"
   ]
  },
  {
   "cell_type": "markdown",
   "id": "2e564fd3",
   "metadata": {},
   "source": [
    "**Country of Mexico with 38.88 highest NO2 AQI Mean higly polluted with NO2 and Tennessee with 1.70 lowest NO2 AQI Mean least polluted with NO2.**"
   ]
  },
  {
   "cell_type": "markdown",
   "id": "f67d5f80",
   "metadata": {},
   "source": [
    "Maximum NO2 present in each State"
   ]
  },
  {
   "cell_type": "code",
   "execution_count": 68,
   "id": "1e47f674",
   "metadata": {},
   "outputs": [
    {
     "data": {
      "image/png": "[encoded data removed]",
      "text/plain": [
       "<Figure size 1200x600 with 1 Axes>"
      ]
     },
     "metadata": {},
     "output_type": "display_data"
    }
   ],
   "source": [
    "Max_NO2=df.groupby('State')['NO2 AQI'].max().sort_values(ascending=False)\n",
    "plt.figure(figsize=(12,6))\n",
    "Max_NO2.plot(kind='bar',color='orange')\n",
    "plt.title('Maximum NO2 AQI Present in Each State')\n",
    "plt.ylabel('NO2 in (ppm)')\n",
    "plt.xlabel('State')\n",
    "plt.show()"
   ]
  },
  {
   "cell_type": "markdown",
   "id": "d3dc26ba",
   "metadata": {},
   "source": [
    "**Colorado,Country Of Mexico,Louisiana have the maximum NO2 present and Wyoming,South Carolina,Tennessee with least NO2 present**"
   ]
  },
  {
   "cell_type": "code",
   "execution_count": 69,
   "id": "65e8557b",
   "metadata": {},
   "outputs": [
    {
     "data": {
      "image/png": "[encoded data removed]",
      "text/plain": [
       "<Figure size 1000x600 with 1 Axes>"
      ]
     },
     "metadata": {},
     "output_type": "display_data"
    }
   ],
   "source": [
    "year_treands=df.groupby(pd.to_datetime(df['Date Local']).dt.year)['NO2 AQI'].max()\n",
    "plt.figure(figsize=(10,6))\n",
    "year_treands.plot(kind='line',color='Purple',marker='o')\n",
    "plt.title('Maximum NO2 AQI by Year (2006-2010)')\n",
    "plt.ylabel('NO2 AQI')\n",
    "plt.xlabel('year')\n",
    "plt.grid(True)\n",
    "plt.show()"
   ]
  },
  {
   "cell_type": "markdown",
   "id": "c39e417d",
   "metadata": {},
   "source": [
    "**Over the year from 2006 to 2009 NO2 AQI gradually depleting  and its came  to 107 in 2009 and from 2019 its remain constant 22.Overall change in airquality**"
   ]
  },
  {
   "cell_type": "code",
   "execution_count": 70,
   "id": "be0fb437",
   "metadata": {},
   "outputs": [
    {
     "name": "stdout",
     "output_type": "stream",
     "text": [
      "Highest City of NO2 Pollutants :\n",
      "City\n",
      "Denver    44.030486\n",
      "Name: NO2 AQI, dtype: float64\n"
     ]
    }
   ],
   "source": [
    "# Highest City of NO2 Pollutants\n",
    "top_10=df.groupby(['City'])['NO2 AQI'].mean().sort_values(ascending=False).head(1)\n",
    "print('Highest City of NO2 Pollutants :')\n",
    "print(top_10)"
   ]
  },
  {
   "cell_type": "markdown",
   "id": "9d0eae40",
   "metadata": {},
   "source": [
    "**The Highest City of NO2 Pollutants is Denver**"
   ]
  },
  {
   "cell_type": "code",
   "execution_count": 71,
   "id": "07924943",
   "metadata": {},
   "outputs": [
    {
     "name": "stdout",
     "output_type": "stream",
     "text": [
      "Yearly NO2 Statistics:\n",
      "           NO2 Mean             NO2 AQI         \n",
      "               mean  min    max    mean min  max\n",
      "Date Local                                      \n",
      "2006          14.53  0.0  70.59   26.99   0  115\n",
      "2007          13.25  0.0  92.00   24.91   0  112\n",
      "2008          12.25  0.0  76.45   23.50   0  110\n",
      "2009          11.46  0.0  60.61   21.73   0  107\n",
      "2010          11.66  0.0  56.91   22.29   0  107\n"
     ]
    }
   ],
   "source": [
    "# summary statistics based on date ranges\n",
    "yearly_stats = df.groupby(df['Date Local'].dt.year).agg({\n",
    "    'NO2 Mean': ['mean', 'min', 'max'],\n",
    "    'NO2 AQI': ['mean', 'min', 'max']\n",
    "}).round(2)\n",
    "\n",
    "print(\"\\\n",
    "Yearly NO2 Statistics:\")\n",
    "print(yearly_stats)"
   ]
  },
  {
   "cell_type": "markdown",
   "id": "90290005",
   "metadata": {},
   "source": [
    "**Highest NO2 levels were recorded in 2007 (max 92 ppm)**\n",
    "\n",
    "**There's a general Decrease trend in average NO2 levels from 2006 to 2010**\n",
    "\n",
    "**The highest AQI value of 115 was recorded in 2006**\n",
    "\n",
    "**Recent years show lower maximum values, suggesting improved air quality**"
   ]
  },
  {
   "cell_type": "code",
   "execution_count": 72,
   "id": "488ab910",
   "metadata": {},
   "outputs": [],
   "source": [
    "# Categorise Aqi level \n",
    "def Aqi_cat(aqi):\n",
    "    if aqi<=50:\n",
    "        return 'Good'\n",
    "    elif aqi<=100:\n",
    "        return 'Moderate'\n",
    "    elif aqi<=150:\n",
    "        return 'Unhealthy for Sensitive Groups'\n",
    "    elif aqi<=200:\n",
    "        return 'Very Unhealthy'\n",
    "    else:\n",
    "        return 'Hazardous'\n"
   ]
  },
  {
   "cell_type": "code",
   "execution_count": 73,
   "id": "4aaa9e01",
   "metadata": {},
   "outputs": [],
   "source": [
    "#Apply the Categorise field \n",
    "for pollutant in ['NO2', 'O3', 'SO2', 'CO']:\n",
    "    col = pollutant + ' AQI'\n",
    "    cat_col = pollutant + ' AQI Category'\n",
    "    df[cat_col] = df[col].apply(Aqi_cat)"
   ]
  },
  {
   "cell_type": "code",
   "execution_count": 74,
   "id": "92e5fe65",
   "metadata": {},
   "outputs": [],
   "source": [
    "#Create a summary\n",
    "summary = {}\n",
    "for pollutant in ['NO2', 'O3', 'SO2', 'CO']:\n",
    "    cat_col = pollutant + ' AQI Category'\n",
    "    summary[pollutant] = df[cat_col].value_counts().sort_index()"
   ]
  },
  {
   "cell_type": "code",
   "execution_count": 75,
   "id": "4243524e",
   "metadata": {},
   "outputs": [
    {
     "name": "stdout",
     "output_type": "stream",
     "text": [
      "AQI Category Distribution by Pollutant:\n",
      "                                     NO2      O3       SO2        CO\n",
      "Good                            494015.0  468293  513561.0  516481.0\n",
      "Hazardous                            NaN      60       NaN       NaN\n",
      "Moderate                         22410.0   40116    2976.0     322.0\n",
      "Unhealthy for Sensitive Groups     394.0    7674     274.0      16.0\n",
      "Very Unhealthy                       NaN     676       8.0       NaN\n"
     ]
    }
   ],
   "source": [
    "# Display results\n",
    "summary_df = pd.DataFrame(summary)\n",
    "print('AQI Category Distribution by Pollutant:')\n",
    "print(summary_df)"
   ]
  },
  {
   "cell_type": "code",
   "execution_count": 76,
   "id": "18c4bacc",
   "metadata": {},
   "outputs": [
    {
     "name": "stdout",
     "output_type": "stream",
     "text": [
      "Percentage Distribution of AQI Categories:\n",
      "                                  NO2     O3    SO2     CO\n",
      "Good                            95.59  90.61  99.37  99.93\n",
      "Hazardous                         NaN   0.01    NaN    NaN\n",
      "Moderate                         4.34   7.76   0.58   0.06\n",
      "Unhealthy for Sensitive Groups   0.08   1.48   0.05   0.00\n",
      "Very Unhealthy                    NaN   0.13   0.00    NaN\n"
     ]
    }
   ],
   "source": [
    "percentages_df = summary_df.div(summary_df.sum()) * 100\n",
    "print('\\\n",
    "Percentage Distribution of AQI Categories:')\n",
    "print(percentages_df.round(2))"
   ]
  },
  {
   "cell_type": "markdown",
   "id": "96018d89",
   "metadata": {},
   "source": [
    "**NO2 (Nitrogen Dioxide):**\n",
    "95.59% of readings fall in the \"Good\" category\n",
    " \n",
    "Only about 4.34% reach \"Moderate\" levels\n",
    "\n",
    "Very few instances (0.08%) of \"Unhealthy for Sensitive Groups\"\n",
    "\n",
    "**O3 (Ozone):**\n",
    "Most diverse distribution among all pollutants\n",
    "\n",
    "90.61%  \"Good\" reading\n",
    "\n",
    "7.76% 'Moderate' Levels\n",
    "\n",
    "1.48% \"Unheathly for sensitive Groups\"\n",
    "\n",
    "Small but notable occurrences of \"Unhealthy\" (0.13%) and \"Very Unhealthy\" conditions\n",
    "\n",
    "**SO2 (Sulfur Dioxide):**\n",
    "About 99.37% \"Good\" readings  values\n",
    "\n",
    "Very few instances   (0.58%) of \"Moderate\" levels\n",
    "\n",
    "Minimal occurrences of higher categories\n",
    "\n",
    "**CO (Carbon Monoxide):**\n",
    "Similar to SO2 with nearly equal  between \"Good\" \n",
    "\n",
    "No recorded instances in higher AQI categories\n",
    "\n",
    "This analysis suggests that while most readings fall within safe levels, Ozone (O3) shows the most concerning pattern with more frequent occurrences of unhealthy conditions compared to other pollutants."
   ]
  },
  {
   "cell_type": "markdown",
   "id": "a65e0c9f",
   "metadata": {},
   "source": [
    "# Average Pollutant Levels By Month "
   ]
  },
  {
   "cell_type": "code",
   "execution_count": 77,
   "id": "ed2a2c47",
   "metadata": {},
   "outputs": [
    {
     "data": {
      "image/png": "[encoded data removed]",
      "text/plain": [
       "<Figure size 1500x700 with 1 Axes>"
      ]
     },
     "metadata": {},
     "output_type": "display_data"
    },
    {
     "name": "stdout",
     "output_type": "stream",
     "text": [
      "Monthly Averages for Each Pollutant:\n",
      "        NO2 Mean   O3 Mean  SO2 Mean   CO Mean\n",
      "Month                                         \n",
      "1      17.536679  0.016886  2.493831  0.514456\n",
      "2      16.405743  0.021562  2.312123  0.462723\n",
      "3      13.774458  0.028479  1.724376  0.374104\n",
      "4      11.541261  0.032824  2.006674  0.333500\n",
      "5      10.256291  0.033173  1.856296  0.293678\n",
      "6       9.765864  0.031713  1.850489  0.270879\n",
      "7       9.265743  0.030538  1.901817  0.263492\n",
      "8       9.971067  0.029128  1.833535  0.278175\n",
      "9      11.339123  0.025402  1.845515  0.303738\n",
      "10     13.667601  0.020892  2.002348  0.355617\n",
      "11     16.512506  0.017847  1.807558  0.482891\n",
      "12     16.673671  0.015810  2.007481  0.481627\n"
     ]
    }
   ],
   "source": [
    "# Add month column\n",
    "df['Month'] = df['Date Local'].dt.month\n",
    "\n",
    "# Calculate monthly averages for each pollutant\n",
    "monthly_avg = df.groupby('Month')[['NO2 Mean', 'O3 Mean', 'SO2 Mean', 'CO Mean']].mean()\n",
    "\n",
    "# Create seasonal pattern plot\n",
    "plt.figure(figsize=(15, 7))\n",
    "for column in monthly_avg.columns:\n",
    "    plt.plot(monthly_avg.index, monthly_avg[column], marker='o', label=column)\n",
    "plt.title('Average Pollutant Levels by Month')\n",
    "plt.xlabel('Month')\n",
    "plt.ylabel('Concentration')\n",
    "plt.legend()\n",
    "plt.grid(True)\n",
    "plt.xticks(range(1,13))\n",
    "plt.show()\n",
    "\n",
    "# Print monthly averages\n",
    "print(\"Monthly Averages for Each Pollutant:\")\n",
    "print(monthly_avg)"
   ]
  },
  {
   "cell_type": "markdown",
   "id": "8a408f06",
   "metadata": {},
   "source": [
    "**NO2 and CO are highest in winter months and lowest in summer.**\n",
    "\n",
    "**Ozone (O3) peaks in late spring and early summer, then drops in winter.**\n",
    "\n",
    "**SO2 is slightly higher in winter and early spring.**"
   ]
  }
 ],
 "metadata": {
  "kernelspec": {
   "display_name": "Python 3",
   "language": "python",
   "name": "python3"
  },
  "language_info": {
   "codemirror_mode": {
    "name": "ipython",
    "version": 3
   },
   "file_extension": ".py",
   "mimetype": "text/x-python",
   "name": "python",
   "nbconvert_exporter": "python",
   "pygments_lexer": "ipython3",
   "version": "3.12.5"
  }
 },
 "nbformat": 4,
 "nbformat_minor": 5
}
